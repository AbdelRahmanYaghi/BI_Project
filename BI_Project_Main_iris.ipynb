{
 "cells": [
  {
   "cell_type": "code",
   "execution_count": 1,
   "metadata": {},
   "outputs": [],
   "source": [
    "import numpy as np\n",
    "import glob2 as glob\n",
    "import pandas as pd\n",
    "import copy\n",
    "from tqdm import tqdm"
   ]
  },
  {
   "cell_type": "code",
   "execution_count": 2,
   "metadata": {},
   "outputs": [],
   "source": [
    "files = glob.glob('4_8_model_weights_3_layers/*.npy')\n",
    "\n",
    "weights_dict = {'bias' : {}, 'weight' : {}}\n",
    "\n",
    "for file in files:\n",
    "    layer_name = file.split('/')[-1].split('.')[0]\n",
    "    if layer_name.split('_')[-1] == 'bias':\n",
    "        weights_dict['bias'].update({layer_name.split('_')[0]: np.load(file)})\n",
    "    else:\n",
    "        weights_dict['weight'].update({layer_name.split('_')[0]: np.load(file)})\n",
    "\n",
    "test_df = pd.read_csv('Iris.csv').drop(columns = ['Id'])\n",
    "test_df['Species'] = test_df['Species'].map({'Iris-setosa': 0, 'Iris-versicolor': 1, 'Iris-virginica': 2})\n",
    "test_y = test_df['Species']\n",
    "test_x = test_df.drop(columns = ['Species'])\n",
    "order= ['fc1', 'fc2', 'fc3']"
   ]
  },
  {
   "cell_type": "code",
   "execution_count": 3,
   "metadata": {},
   "outputs": [
    {
     "name": "stdout",
     "output_type": "stream",
     "text": [
      "Layer Number\t|\t Weights Shape\t|\t Bias Shape\n",
      "------------------------------------------------------------\n",
      "Layer 1  \t|\t (8, 4) \t|\t (8,)\n",
      "Layer 2  \t|\t (4, 8) \t|\t (4,)\n",
      "Layer 3  \t|\t (3, 4) \t|\t (3,)\n"
     ]
    }
   ],
   "source": [
    "def choose_neurons_numeric(chosen_neurons, _weights_dict):\n",
    "    \n",
    "    weights_dict_ = copy.deepcopy(_weights_dict)\n",
    "        \n",
    "    weights_dict_['weight']['fc1'] = weights_dict_['weight']['fc1'][chosen_neurons[0], :]\n",
    "    weights_dict_['bias']['fc1'] = weights_dict_['bias']['fc1'][chosen_neurons[0]]\n",
    "\n",
    "    weights_dict_['weight']['fc2'] = weights_dict_['weight']['fc2'][chosen_neurons[1], :][:, chosen_neurons[0]]\n",
    "    weights_dict_['bias']['fc2'] = weights_dict_['bias']['fc2'][chosen_neurons[1]]\n",
    "\n",
    "    weights_dict_['weight']['fc3'] = weights_dict_['weight']['fc3'][: ,chosen_neurons[1]]\n",
    "    \n",
    "    return weights_dict_\n",
    "\n",
    "\n",
    "def choose_neurons_slicing(chosen_neurons, _weights_dict):\n",
    "    weights_dict_ = copy.deepcopy(_weights_dict)\n",
    "\n",
    "    #############\n",
    "    ## LAYER 1 ##\n",
    "    #############\n",
    "\n",
    "    # Adding expression to the weights of Layer 1\n",
    "    print('Adding expression to the weights of Layer 1')\n",
    "    new_fc = []\n",
    "    for i in tqdm(range(weights_dict_['weight']['fc1'].shape[0])):\n",
    "        new_fc_row = []\n",
    "        for j in range(weights_dict_['weight']['fc1'].shape[1]):\n",
    "            new_fc_row.append(chosen_neurons[0][i] * weights_dict_['weight']['fc1'][i][j])\n",
    "        new_fc.append(new_fc_row)\n",
    "\n",
    "    weights_dict_['weight']['fc1'] = np.array(new_fc)\n",
    "\n",
    "    # Adding expression to the Bias of Layer 1\n",
    "    print('Adding expression to the bias of Layer 1')\n",
    "    new_fc = []\n",
    "    for i in tqdm(range(weights_dict_['bias']['fc1'].shape[0])):\n",
    "        new_fc.append(chosen_neurons[0][i] * weights_dict_['bias']['fc1'][i])\n",
    "    \n",
    "    weights_dict_['bias']['fc1'] = np.array(new_fc)\n",
    "\n",
    "\n",
    "    #############\n",
    "    ## LAYER 2 ##\n",
    "    #############\n",
    "\n",
    "    # Adding expression to the weights of Layer 2\n",
    "    print('Adding expression to the weights of Layer 2')\n",
    "    \n",
    "    new_fc = weights_dict_['weight']['fc2'].copy().astype(object)\n",
    "    for i in tqdm(range(weights_dict_['weight']['fc2'].shape[0])):\n",
    "        for j in range(weights_dict_['weight']['fc2'].shape[1]):\n",
    "            new_fc[i][j] *= (chosen_neurons[1][i] * chosen_neurons[0][j])\n",
    "\n",
    "    weights_dict_['weight']['fc2'] = new_fc\n",
    "\n",
    "    # Adding expression to the Bias of Layer 2\n",
    "    print('Adding expression to the bias of Layer 2')\n",
    "    new_fc = []\n",
    "    for i in tqdm(range(weights_dict_['bias']['fc2'].shape[0])):\n",
    "        new_fc.append(chosen_neurons[1][i] * weights_dict_['bias']['fc2'][i])\n",
    "    \n",
    "    weights_dict_['bias']['fc2'] = np.array(new_fc)\n",
    "\n",
    "    #############\n",
    "    ## LAYER 3 ##\n",
    "    #############\n",
    "    \n",
    "    # Adding expression to the weights of Layer 3\n",
    "    print('Adding expression to the weights of Layer 3')\n",
    "    \n",
    "    new_fc = weights_dict_['weight']['fc3'].copy().astype(object)\n",
    "    for i in tqdm(range(weights_dict_['weight']['fc3'].shape[0])):\n",
    "        for j in range(weights_dict_['weight']['fc3'].shape[1]):\n",
    "            new_fc[i][j] *= chosen_neurons[1][j]\n",
    "\n",
    "    weights_dict_['weight']['fc3'] = new_fc\n",
    "\n",
    "    return weights_dict_\n",
    "\n",
    "def predict_expressions(expression_matrix, weights_dict_):\n",
    "\n",
    "    x = np.dot(weights_dict_['weight']['fc1'], expression_matrix.T) + weights_dict_['bias']['fc1']\n",
    "    # x = np.maximum(0, x)\n",
    "\n",
    "    print('Done 1 layer')\n",
    "\n",
    "    x = np.dot(weights_dict_['weight']['fc2'], x.T) + weights_dict_['bias']['fc2']\n",
    "    # x = np.maximum(0, x)\n",
    "\n",
    "\n",
    "    print('Done 2 layer')\n",
    "\n",
    "    x = np.dot(weights_dict_['weight']['fc3'], x.T) + weights_dict_['bias']['fc3']\n",
    "    # x = np.maximum(0, x)\n",
    "\n",
    "    print('Done 3 layer')\n",
    "\n",
    "    x /= np.sum(x) # softmax\n",
    "\n",
    "    return x\n",
    "\n",
    "def predict_numeric(img_df_row, weights_dict_):\n",
    "\n",
    "    x = np.dot(weights_dict_['weight']['fc1'], img_df_row.T) + weights_dict_['bias']['fc1']\n",
    "    x = np.maximum(0, x)\n",
    "\n",
    "    x = np.dot(weights_dict_['weight']['fc2'], x.T) + weights_dict_['bias']['fc2']\n",
    "    x = np.maximum(0, x)\n",
    "\n",
    "    x = np.dot(weights_dict_['weight']['fc3'], x.T) + weights_dict_['bias']['fc3']\n",
    "    x = np.maximum(0, x)\n",
    "\n",
    "    x /= np.sum(x) # softmax\n",
    "\n",
    "    return x\n",
    "\n",
    "def print_neurons_shape(weights_dict_):\n",
    "    print('Layer Number\\t|\\t Weights Shape\\t|\\t Bias Shape')\n",
    "    print('-'*60)\n",
    "    print('Layer 1  \\t|\\t', weights_dict_['weight']['fc1'].shape, '\\t|\\t' , weights_dict_['bias']['fc1'].shape)\n",
    "    print('Layer 2  \\t|\\t', weights_dict_['weight']['fc2'].shape, '\\t|\\t' , weights_dict_['bias']['fc2'].shape)\n",
    "    print('Layer 3  \\t|\\t', weights_dict_['weight']['fc3'].shape, '\\t|\\t' , weights_dict_['bias']['fc3'].shape)\n",
    "    \n",
    "def cross_entropy_loss(label, y_hat):\n",
    "    y = np.zeros(10)\n",
    "    y[label] = 1\n",
    "    return -np.sum(y * np.log(y_hat))\n",
    "\n",
    "print_neurons_shape(weights_dict)"
   ]
  },
  {
   "cell_type": "markdown",
   "metadata": {},
   "source": [
    "### DoCplex"
   ]
  },
  {
   "cell_type": "code",
   "execution_count": 190,
   "metadata": {},
   "outputs": [
    {
     "data": {
      "text/plain": [
       "<docplex.cp.expression.CpoFunctionCall at 0x7d5e363ba1c0>"
      ]
     },
     "execution_count": 190,
     "metadata": {},
     "output_type": "execute_result"
    }
   ],
   "source": [
    "from docplex.cp.model import CpoModel as Model\n",
    "\n",
    "m = Model()\n",
    "\n",
    "X_fc1 = np.array(m.binary_var_list(8, name='Layer 1 Neurons'))\n",
    "X_fc2 = np.array(m.binary_var_list(4, name='Layer 2 Neurons'))\n",
    "\n",
    "W_hat_fc1_weight = X_fc1.reshape((-1, 1))  * weights_dict['weight']['fc1']\n",
    "W_hat_fc1_bias = weights_dict['bias']['fc1'] * X_fc1\n",
    "\n",
    "W_hat_fc2_weight = X_fc2.reshape((-1, 1)) * weights_dict['weight']['fc2']\n",
    "W_hat_fc2_weight = W_hat_fc2_weight * X_fc1.reshape((1, -1))\n",
    "W_hat_fc2_bias = X_fc2 * weights_dict['bias']['fc2']\n",
    "\n",
    "W_hat_fc3_weight = weights_dict['weight']['fc3'] * X_fc2.reshape((1, -1))\n",
    "\n",
    "sub_chunk = 50\n",
    "x_chunk = test_x.iloc[:sub_chunk]\n",
    "y_chunk = test_y.iloc[:sub_chunk]\n",
    "\n",
    "out_x = (np.dot(x_chunk, W_hat_fc1_weight.T) + W_hat_fc1_bias)\n",
    "\n",
    "# out_x = (np.dot(out_x, W_hat_fc2_weight.T) + W_hat_fc2_bias)\n",
    "# out_x = np.dot(out_x, W_hat_fc3_weight.T) + weights_dict['bias']['fc3']\n",
    "\n",
    "labels = np.zeros_like(out_x)\n",
    "for i in range(len(out_x)):\n",
    "    labels[i, y_chunk[i]] = 1 \n",
    "\n",
    "losses = []\n",
    "for i in range(len(out_x)):\n",
    "    for u in range(len(out_x[i])):\n",
    "        # if labels[i][u] == 1:\n",
    "        losses.append(labels[i][u] * m.log(out_x[i][u] + 10e-6))\n",
    "        \n",
    "number_of_nuerons_used = X_fc1.sum() + X_fc2.sum()\n",
    "\n",
    "doodoo = m.sum([np.sum(out_x[i]) for i in range(len(out_x))])\n",
    "\n",
    "m.minimize(losses[0] + losses[1] + losses[2])"
   ]
  },
  {
   "cell_type": "code",
   "execution_count": 191,
   "metadata": {},
   "outputs": [
    {
     "name": "stdout",
     "output_type": "stream",
     "text": [
      " ! --------------------------------------------------- CP Optimizer 22.1.1.0 --\n",
      " ! Minimization problem - 3 variables, 0 constraints\n",
      " ! Initial process time : 0.00s (0.00s extraction + 0.00s propagation)\n",
      " !  . Log search space  : 1.0 (before), 1.0 (after)\n",
      " !  . Memory usage      : 299.7 kB (before), 299.7 kB (after)\n",
      " ! Using parallel search with 4 workers.\n",
      " ! ----------------------------------------------------------------------------\n",
      " !          Best Branches  Non-fixed    W       Branch decision\n",
      "                        0          3                 -\n",
      " + New bound is -11.51293\n",
      " *     -11.51293        1  0.02s        1      (gap is 0.00%)\n",
      " ! ----------------------------------------------------------------------------\n",
      " ! Search completed, 1 solution found.\n",
      " ! Best objective         : -11.51293 (optimal - effective tol. is 0.00115129)\n",
      " ! Best bound             : -11.51293\n"
     ]
    },
    {
     "name": "stdout",
     "output_type": "stream",
     "text": [
      " ! ----------------------------------------------------------------------------\n",
      " ! Number of branches     : 23\n",
      " ! Number of fails        : 23\n",
      " ! Total memory usage     : 2.3 MB (2.3 MB CP Optimizer + 0.0 MB Concert)\n",
      " ! Time spent in solve    : 0.02s (0.02s engine + 0.00s extraction)\n",
      " ! Search speed (br. / s) : 2300.0\n",
      " ! ----------------------------------------------------------------------------\n"
     ]
    }
   ],
   "source": [
    "sol = m.solve(log_output=True)"
   ]
  },
  {
   "cell_type": "code",
   "execution_count": 192,
   "metadata": {},
   "outputs": [
    {
     "name": "stdout",
     "output_type": "stream",
     "text": [
      "Layer 1 Neurons_0=0\n",
      "Layer 1 Neurons_1=0\n",
      "Layer 1 Neurons_2=0\n"
     ]
    },
    {
     "data": {
      "text/plain": [
       "[None, None, None]"
      ]
     },
     "execution_count": 192,
     "metadata": {},
     "output_type": "execute_result"
    }
   ],
   "source": [
    "[print(sol.get_all_var_solutions()[i]) for i in range(len(sol.get_all_var_solutions()))]"
   ]
  },
  {
   "cell_type": "code",
   "execution_count": 193,
   "metadata": {},
   "outputs": [
    {
     "name": "stdout",
     "output_type": "stream",
     "text": [
      "-11.512925464970229\n"
     ]
    }
   ],
   "source": [
    "print(sol.get_objective_value())"
   ]
  }
 ],
 "metadata": {
  "kernelspec": {
   "display_name": "venv",
   "language": "python",
   "name": "python3"
  },
  "language_info": {
   "codemirror_mode": {
    "name": "ipython",
    "version": 3
   },
   "file_extension": ".py",
   "mimetype": "text/x-python",
   "name": "python",
   "nbconvert_exporter": "python",
   "pygments_lexer": "ipython3",
   "version": "3.10.12"
  }
 },
 "nbformat": 4,
 "nbformat_minor": 2
}

{
 "cells": [
  {
   "cell_type": "code",
   "execution_count": 143,
   "metadata": {},
   "outputs": [],
   "source": [
    "import numpy as np\n",
    "import glob2 as glob\n",
    "import pandas as pd\n",
    "import copy\n",
    "from tqdm import tqdm\n",
    "import torch\n",
    "import torch.nn as nn\n",
    "import torch.nn.functional as F\n",
    "from torchvision import datasets, transforms\n",
    "import matplotlib.pyplot as plt\n",
    "import json"
   ]
  },
  {
   "cell_type": "code",
   "execution_count": 155,
   "metadata": {},
   "outputs": [],
   "source": [
    "class Net(nn.Module):\n",
    "    def __init__(self):\n",
    "        super(Net, self).__init__()\n",
    "        self.fc1 = nn.Linear(784, 1024)\n",
    "        self.fc2 = nn.Linear(1024, 1024)\n",
    "        self.fc3 = nn.Linear(1024, 10)\n",
    "\n",
    "    def forward(self, x):\n",
    "        x = nn.Flatten()(x)\n",
    "        x = self.fc1(x)\n",
    "        x = F.relu(x)\n",
    "        x = self.fc2(x)\n",
    "        x = F.relu(x)\n",
    "        x = self.fc3(x)\n",
    "        output = F.softmax(x, dim=1)\n",
    "        return output"
   ]
  },
  {
   "cell_type": "code",
   "execution_count": 156,
   "metadata": {},
   "outputs": [],
   "source": [
    "files = glob.glob('1K_model_weights_3_layers/*.npy')\n",
    "\n",
    "weights_dict = {'bias' : {}, 'weight' : {}}\n",
    "\n",
    "for file in files:\n",
    "    layer_name = file.split('/')[-1].split('.')[0]\n",
    "    if layer_name.split('_')[-1] == 'bias':\n",
    "        weights_dict['bias'].update({layer_name.split('_')[0]: np.load(file)})\n",
    "    else:\n",
    "        weights_dict['weight'].update({layer_name.split('_')[0]: np.load(file)})\n",
    "\n",
    "order= ['fc1', 'fc2', 'fc3']\n",
    "\n",
    "transform = transforms.Compose([\n",
    "    transforms.ToTensor()\n",
    "])\n",
    "\n",
    "dataset_test = datasets.MNIST('../data', train=False, transform = transform, download=True)\n",
    "subset = torch.utils.data.Subset(dataset_test, np.random.choice(len(dataset_test), 5000, replace=False))"
   ]
  },
  {
   "cell_type": "code",
   "execution_count": 537,
   "metadata": {},
   "outputs": [
    {
     "name": "stdout",
     "output_type": "stream",
     "text": [
      "Layer Number\t|\t Weights Shape\t|\t Bias Shape\n",
      "------------------------------------------------------------\n",
      "Layer 1  \t|\t (1024, 784) \t|\t (1024,)\n",
      "Layer 2  \t|\t (1024, 1024) \t|\t (1024,)\n",
      "Layer 3  \t|\t (10, 1024) \t|\t (10,)\n"
     ]
    }
   ],
   "source": [
    "def choose_neurons_numeric(chosen_neurons, _weights_dict):\n",
    "    \n",
    "    weights_dict_ = copy.deepcopy(_weights_dict)\n",
    "        \n",
    "    weights_dict_['weight']['fc1'] = weights_dict_['weight']['fc1'][chosen_neurons[0], :]\n",
    "    weights_dict_['bias']['fc1'] = weights_dict_['bias']['fc1'][chosen_neurons[0]]\n",
    "\n",
    "    weights_dict_['weight']['fc2'] = weights_dict_['weight']['fc2'][chosen_neurons[1], :][:, chosen_neurons[0]]\n",
    "    weights_dict_['bias']['fc2'] = weights_dict_['bias']['fc2'][chosen_neurons[1]]\n",
    "\n",
    "    weights_dict_['weight']['fc3'] = weights_dict_['weight']['fc3'][: ,chosen_neurons[1]]\n",
    "    \n",
    "    return weights_dict_\n",
    "\n",
    "def load_new_model(weights_dict_):\n",
    "    model = Net()\n",
    "    \n",
    "    model.fc1.weight.data = torch.tensor(weights_dict_['weight']['fc1'])\n",
    "    model.fc1.bias.data = torch.tensor(weights_dict_['bias']['fc1'])\n",
    "    model.fc2.weight.data = torch.tensor(weights_dict_['weight']['fc2'])\n",
    "    model.fc2.bias.data = torch.tensor(weights_dict_['bias']['fc2'])\n",
    "    model.fc3.weight.data = torch.tensor(weights_dict_['weight']['fc3'])\n",
    "    model.fc3.bias.data = torch.tensor(weights_dict_['bias']['fc3'])\n",
    "\n",
    "    return model\n",
    "    \n",
    "def print_neurons_shape(weights_dict_):\n",
    "    print('Layer Number\\t|\\t Weights Shape\\t|\\t Bias Shape')\n",
    "    print('-'*60)\n",
    "    print('Layer 1  \\t|\\t', weights_dict_['weight']['fc1'].shape, '\\t|\\t' , weights_dict_['bias']['fc1'].shape)\n",
    "    print('Layer 2  \\t|\\t', weights_dict_['weight']['fc2'].shape, '\\t|\\t' , weights_dict_['bias']['fc2'].shape)\n",
    "    print('Layer 3  \\t|\\t', weights_dict_['weight']['fc3'].shape, '\\t|\\t' , weights_dict_['bias']['fc3'].shape)\n",
    "\n",
    "\n",
    "def apply_random_change(arr, X):\n",
    "    arr_ = copy.deepcopy(arr)\n",
    "\n",
    "    ones = np.where(arr_ == 1)[0]\n",
    "    X = int(len(ones) * X)\n",
    "\n",
    "    to_zeros = np.random.choice(ones, X, replace = False)\n",
    "\n",
    "    arr_[to_zeros] = 0\n",
    "\n",
    "    return arr_\n",
    "\n",
    "\n",
    "def CE_loss(output, target):\n",
    "    # This takes a batch of 64  , and returns the average loss\n",
    "    zeros = torch.zeros_like(output)\n",
    "    zeros[range(output.shape[0]), target] = 1\n",
    "    # print(output)\n",
    "    log_probs = torch.log(output + 1e-8)\n",
    "    return -torch.sum(zeros * log_probs) / output.shape[0]\n",
    "\n",
    "def test(model, device, test_loader):\n",
    "    model.eval()\n",
    "    test_loss = 0\n",
    "    \n",
    "    with torch.no_grad():\n",
    "        for data, target in test_loader:\n",
    "            data, target = data.to(device), target.to(device)\n",
    "            output = model(data)\n",
    "            loss = CE_loss(output, target)\n",
    "            test_loss += loss\n",
    "\n",
    "    test_loss /= len(test_loader.dataset)\n",
    "\n",
    "    return test_loss\n",
    "    # print('\\nTest set: Average loss: {:.4f}, Accuracy: {}/{} ({:.0f}%)\\n'.format(\n",
    "    #     test_loss, correct, len(test_loader.dataset),\n",
    "    #     100. * correct / len(test_loader.dataset)))\n",
    "\n",
    "print_neurons_shape(weights_dict)"
   ]
  },
  {
   "cell_type": "code",
   "execution_count": 446,
   "metadata": {},
   "outputs": [],
   "source": [
    "### VALIDATION DRAFT: DO NOT REMOVE AND DO NOT RUN!!! ###\n",
    "\n",
    "# # chosen_fc1 = np.random.randint(0, 2, 2048)\n",
    "# # chosen_fc2 = np.random.randint(0, 2, 2048)\n",
    "\n",
    "# # print(chosen_fc1.sum(), chosen_fc2.sum())\n",
    "\n",
    "# # expressioned_weights = choose_neurons_expression([chosen_fc1, chosen_fc2], weights_dict)\n",
    "\n",
    "# # 1012 1032\n",
    "\n",
    "# print((expressioned_weights['weight']['fc1'].sum(axis = 0) != 0).sum() , (expressioned_weights['weight']['fc1'].sum(axis = 1) != 0).sum())\n",
    "# print((expressioned_weights['weight']['fc2'].sum(axis = 0) != 0).sum() , (expressioned_weights['weight']['fc2'].sum(axis = 1) != 0).sum())\n",
    "# print((expressioned_weights['weight']['fc3'].sum(axis = 0) != 0).sum() , (expressioned_weights['weight']['fc3'].sum(axis = 1) != 0).sum())"
   ]
  },
  {
   "cell_type": "markdown",
   "metadata": {},
   "source": [
    "### DoCplex"
   ]
  },
  {
   "cell_type": "code",
   "execution_count": 540,
   "metadata": {},
   "outputs": [],
   "source": [
    "from docplex.mp.model import Model\n",
    "\n",
    "options_per_step = 64 # Lower is faster but less accurate\n",
    "random_change_perc = 0.01 # Think of it as learning rate.\n",
    "iterations = 100\n",
    "\n",
    "test_loader = torch.utils.data.DataLoader(subset, batch_size = 64)"
   ]
  },
  {
   "cell_type": "code",
   "execution_count": 541,
   "metadata": {},
   "outputs": [
    {
     "name": "stderr",
     "output_type": "stream",
     "text": [
      "  0%|          | 0/64 [00:00<?, ?it/s]"
     ]
    },
    {
     "name": "stderr",
     "output_type": "stream",
     "text": [
      "100%|██████████| 64/64 [01:10<00:00,  1.10s/it]"
     ]
    },
    {
     "name": "stdout",
     "output_type": "stream",
     "text": [
      "Best Objective Value on Iteration 0: 0.003250337205827236\n",
      "Best Index on Iteration 0: 38\n",
      "Number of Neurons in layer 1 on Iteration 0: 1014.0\n",
      "Number of Neurons in layer 2 on Iteration 0: 1014.0\n",
      "================================================================================\n"
     ]
    },
    {
     "name": "stderr",
     "output_type": "stream",
     "text": [
      "\n",
      "100%|██████████| 64/64 [01:03<00:00,  1.01it/s]"
     ]
    },
    {
     "name": "stdout",
     "output_type": "stream",
     "text": [
      "Best Objective Value on Iteration 1: 0.0032602252904325724\n",
      "Best Index on Iteration 1: 56\n",
      "Number of Neurons in layer 1 on Iteration 1: 1004.0\n",
      "Number of Neurons in layer 2 on Iteration 1: 1004.0\n",
      "================================================================================\n"
     ]
    },
    {
     "name": "stderr",
     "output_type": "stream",
     "text": [
      "\n",
      "100%|██████████| 64/64 [01:01<00:00,  1.04it/s]"
     ]
    },
    {
     "name": "stdout",
     "output_type": "stream",
     "text": [
      "Best Objective Value on Iteration 2: 0.0032757630106061697\n",
      "Best Index on Iteration 2: 38\n",
      "Number of Neurons in layer 1 on Iteration 2: 994.0\n",
      "Number of Neurons in layer 2 on Iteration 2: 994.0\n",
      "================================================================================\n"
     ]
    },
    {
     "name": "stderr",
     "output_type": "stream",
     "text": [
      "\n",
      "100%|██████████| 64/64 [01:08<00:00,  1.07s/it]"
     ]
    },
    {
     "name": "stdout",
     "output_type": "stream",
     "text": [
      "Best Objective Value on Iteration 3: 0.0032864841632544994\n",
      "Best Index on Iteration 3: 38\n",
      "Number of Neurons in layer 1 on Iteration 3: 985.0\n",
      "Number of Neurons in layer 2 on Iteration 3: 985.0\n",
      "================================================================================\n"
     ]
    },
    {
     "name": "stderr",
     "output_type": "stream",
     "text": [
      "\n",
      "100%|██████████| 64/64 [01:01<00:00,  1.04it/s]"
     ]
    },
    {
     "name": "stdout",
     "output_type": "stream",
     "text": [
      "Best Objective Value on Iteration 4: 0.0033089725766330957\n",
      "Best Index on Iteration 4: 7\n",
      "Number of Neurons in layer 1 on Iteration 4: 976.0\n",
      "Number of Neurons in layer 2 on Iteration 4: 976.0\n",
      "================================================================================\n"
     ]
    },
    {
     "name": "stderr",
     "output_type": "stream",
     "text": [
      "\n",
      "100%|██████████| 64/64 [01:01<00:00,  1.04it/s]"
     ]
    },
    {
     "name": "stdout",
     "output_type": "stream",
     "text": [
      "Best Objective Value on Iteration 5: 0.0033253540750592947\n",
      "Best Index on Iteration 5: 50\n",
      "Number of Neurons in layer 1 on Iteration 5: 967.0\n",
      "Number of Neurons in layer 2 on Iteration 5: 967.0\n",
      "================================================================================\n"
     ]
    },
    {
     "name": "stderr",
     "output_type": "stream",
     "text": [
      "\n",
      "100%|██████████| 64/64 [01:07<00:00,  1.06s/it]"
     ]
    },
    {
     "name": "stdout",
     "output_type": "stream",
     "text": [
      "Best Objective Value on Iteration 6: 0.003354686079546809\n",
      "Best Index on Iteration 6: 15\n",
      "Number of Neurons in layer 1 on Iteration 6: 958.0\n",
      "Number of Neurons in layer 2 on Iteration 6: 958.0\n",
      "================================================================================\n"
     ]
    },
    {
     "name": "stderr",
     "output_type": "stream",
     "text": [
      "\n",
      "100%|██████████| 64/64 [01:13<00:00,  1.14s/it]"
     ]
    },
    {
     "name": "stdout",
     "output_type": "stream",
     "text": [
      "Best Objective Value on Iteration 7: 0.0033849431201815605\n",
      "Best Index on Iteration 7: 8\n",
      "Number of Neurons in layer 1 on Iteration 7: 949.0\n",
      "Number of Neurons in layer 2 on Iteration 7: 949.0\n",
      "================================================================================\n"
     ]
    },
    {
     "name": "stderr",
     "output_type": "stream",
     "text": [
      "\n",
      "100%|██████████| 64/64 [01:02<00:00,  1.02it/s]"
     ]
    },
    {
     "name": "stdout",
     "output_type": "stream",
     "text": [
      "Best Objective Value on Iteration 8: 0.003417019732296467\n",
      "Best Index on Iteration 8: 59\n",
      "Number of Neurons in layer 1 on Iteration 8: 940.0\n",
      "Number of Neurons in layer 2 on Iteration 8: 940.0\n",
      "================================================================================\n"
     ]
    },
    {
     "name": "stderr",
     "output_type": "stream",
     "text": [
      "\n",
      "100%|██████████| 64/64 [01:03<00:00,  1.00it/s]"
     ]
    },
    {
     "name": "stdout",
     "output_type": "stream",
     "text": [
      "Best Objective Value on Iteration 9: 0.0034545580856502056\n",
      "Best Index on Iteration 9: 34\n",
      "Number of Neurons in layer 1 on Iteration 9: 931.0\n",
      "Number of Neurons in layer 2 on Iteration 9: 931.0\n",
      "================================================================================\n"
     ]
    },
    {
     "name": "stderr",
     "output_type": "stream",
     "text": [
      "\n",
      "100%|██████████| 64/64 [01:02<00:00,  1.03it/s]"
     ]
    },
    {
     "name": "stdout",
     "output_type": "stream",
     "text": [
      "Best Objective Value on Iteration 10: 0.0034880656749010086\n",
      "Best Index on Iteration 10: 43\n",
      "Number of Neurons in layer 1 on Iteration 10: 922.0\n",
      "Number of Neurons in layer 2 on Iteration 10: 922.0\n",
      "================================================================================\n"
     ]
    },
    {
     "name": "stderr",
     "output_type": "stream",
     "text": [
      "\n",
      "100%|██████████| 64/64 [01:02<00:00,  1.02it/s]"
     ]
    },
    {
     "name": "stdout",
     "output_type": "stream",
     "text": [
      "Best Objective Value on Iteration 11: 0.0035304538905620575\n",
      "Best Index on Iteration 11: 26\n",
      "Number of Neurons in layer 1 on Iteration 11: 913.0\n",
      "Number of Neurons in layer 2 on Iteration 11: 913.0\n",
      "================================================================================\n"
     ]
    },
    {
     "name": "stderr",
     "output_type": "stream",
     "text": [
      "\n",
      "100%|██████████| 64/64 [01:03<00:00,  1.02it/s]"
     ]
    },
    {
     "name": "stdout",
     "output_type": "stream",
     "text": [
      "Best Objective Value on Iteration 12: 0.0035760158207267523\n",
      "Best Index on Iteration 12: 61\n",
      "Number of Neurons in layer 1 on Iteration 12: 904.0\n",
      "Number of Neurons in layer 2 on Iteration 12: 904.0\n",
      "================================================================================\n"
     ]
    },
    {
     "name": "stderr",
     "output_type": "stream",
     "text": [
      "\n",
      "100%|██████████| 64/64 [01:02<00:00,  1.03it/s]"
     ]
    },
    {
     "name": "stdout",
     "output_type": "stream",
     "text": [
      "Best Objective Value on Iteration 13: 0.003626028774306178\n",
      "Best Index on Iteration 13: 40\n",
      "Number of Neurons in layer 1 on Iteration 13: 895.0\n",
      "Number of Neurons in layer 2 on Iteration 13: 895.0\n",
      "================================================================================\n"
     ]
    },
    {
     "name": "stderr",
     "output_type": "stream",
     "text": [
      "\n",
      "100%|██████████| 64/64 [01:00<00:00,  1.05it/s]"
     ]
    },
    {
     "name": "stdout",
     "output_type": "stream",
     "text": [
      "Best Objective Value on Iteration 14: 0.003668603952974081\n",
      "Best Index on Iteration 14: 9\n",
      "Number of Neurons in layer 1 on Iteration 14: 887.0\n",
      "Number of Neurons in layer 2 on Iteration 14: 887.0\n",
      "================================================================================\n"
     ]
    },
    {
     "name": "stderr",
     "output_type": "stream",
     "text": [
      "\n",
      "100%|██████████| 64/64 [00:59<00:00,  1.07it/s]"
     ]
    },
    {
     "name": "stdout",
     "output_type": "stream",
     "text": [
      "Best Objective Value on Iteration 15: 0.0037087001837790012\n",
      "Best Index on Iteration 15: 48\n",
      "Number of Neurons in layer 1 on Iteration 15: 879.0\n",
      "Number of Neurons in layer 2 on Iteration 15: 879.0\n",
      "================================================================================\n"
     ]
    },
    {
     "name": "stderr",
     "output_type": "stream",
     "text": [
      "\n",
      "100%|██████████| 64/64 [01:01<00:00,  1.04it/s]"
     ]
    },
    {
     "name": "stdout",
     "output_type": "stream",
     "text": [
      "Best Objective Value on Iteration 16: 0.003759735031053424\n",
      "Best Index on Iteration 16: 52\n",
      "Number of Neurons in layer 1 on Iteration 16: 871.0\n",
      "Number of Neurons in layer 2 on Iteration 16: 871.0\n",
      "================================================================================\n"
     ]
    },
    {
     "name": "stderr",
     "output_type": "stream",
     "text": [
      "\n",
      "100%|██████████| 64/64 [01:00<00:00,  1.05it/s]"
     ]
    },
    {
     "name": "stdout",
     "output_type": "stream",
     "text": [
      "Best Objective Value on Iteration 17: 0.0038104176055639982\n",
      "Best Index on Iteration 17: 24\n",
      "Number of Neurons in layer 1 on Iteration 17: 863.0\n",
      "Number of Neurons in layer 2 on Iteration 17: 863.0\n",
      "================================================================================\n"
     ]
    },
    {
     "name": "stderr",
     "output_type": "stream",
     "text": [
      "\n",
      "100%|██████████| 64/64 [01:00<00:00,  1.06it/s]"
     ]
    },
    {
     "name": "stdout",
     "output_type": "stream",
     "text": [
      "Best Objective Value on Iteration 18: 0.0038675800897181034\n",
      "Best Index on Iteration 18: 47\n",
      "Number of Neurons in layer 1 on Iteration 18: 855.0\n",
      "Number of Neurons in layer 2 on Iteration 18: 855.0\n",
      "================================================================================\n"
     ]
    },
    {
     "name": "stderr",
     "output_type": "stream",
     "text": [
      "\n",
      "100%|██████████| 64/64 [00:57<00:00,  1.11it/s]"
     ]
    },
    {
     "name": "stdout",
     "output_type": "stream",
     "text": [
      "Best Objective Value on Iteration 19: 0.003922298084944487\n",
      "Best Index on Iteration 19: 18\n",
      "Number of Neurons in layer 1 on Iteration 19: 847.0\n",
      "Number of Neurons in layer 2 on Iteration 19: 847.0\n",
      "================================================================================\n"
     ]
    },
    {
     "name": "stderr",
     "output_type": "stream",
     "text": [
      "\n",
      "100%|██████████| 64/64 [01:01<00:00,  1.04it/s]"
     ]
    },
    {
     "name": "stdout",
     "output_type": "stream",
     "text": [
      "Best Objective Value on Iteration 20: 0.003985384479165077\n",
      "Best Index on Iteration 20: 43\n",
      "Number of Neurons in layer 1 on Iteration 20: 839.0\n",
      "Number of Neurons in layer 2 on Iteration 20: 839.0\n",
      "================================================================================\n"
     ]
    },
    {
     "name": "stderr",
     "output_type": "stream",
     "text": [
      "\n",
      "100%|██████████| 64/64 [00:59<00:00,  1.08it/s]"
     ]
    },
    {
     "name": "stdout",
     "output_type": "stream",
     "text": [
      "Best Objective Value on Iteration 21: 0.004053016193211079\n",
      "Best Index on Iteration 21: 3\n",
      "Number of Neurons in layer 1 on Iteration 21: 831.0\n",
      "Number of Neurons in layer 2 on Iteration 21: 831.0\n",
      "================================================================================\n"
     ]
    },
    {
     "name": "stderr",
     "output_type": "stream",
     "text": [
      "\n",
      "100%|██████████| 64/64 [00:56<00:00,  1.13it/s]"
     ]
    },
    {
     "name": "stdout",
     "output_type": "stream",
     "text": [
      "Best Objective Value on Iteration 22: 0.004124375060200691\n",
      "Best Index on Iteration 22: 54\n",
      "Number of Neurons in layer 1 on Iteration 22: 823.0\n",
      "Number of Neurons in layer 2 on Iteration 22: 823.0\n",
      "================================================================================\n"
     ]
    },
    {
     "name": "stderr",
     "output_type": "stream",
     "text": [
      "\n",
      "100%|██████████| 64/64 [00:55<00:00,  1.15it/s]"
     ]
    },
    {
     "name": "stdout",
     "output_type": "stream",
     "text": [
      "Best Objective Value on Iteration 23: 0.004197209142148495\n",
      "Best Index on Iteration 23: 32\n",
      "Number of Neurons in layer 1 on Iteration 23: 815.0\n",
      "Number of Neurons in layer 2 on Iteration 23: 815.0\n",
      "================================================================================\n"
     ]
    },
    {
     "name": "stderr",
     "output_type": "stream",
     "text": [
      "\n",
      "100%|██████████| 64/64 [00:57<00:00,  1.12it/s]"
     ]
    },
    {
     "name": "stdout",
     "output_type": "stream",
     "text": [
      "Best Objective Value on Iteration 24: 0.004277561791241169\n",
      "Best Index on Iteration 24: 59\n",
      "Number of Neurons in layer 1 on Iteration 24: 807.0\n",
      "Number of Neurons in layer 2 on Iteration 24: 807.0\n",
      "================================================================================\n"
     ]
    },
    {
     "name": "stderr",
     "output_type": "stream",
     "text": [
      "\n",
      "100%|██████████| 64/64 [00:58<00:00,  1.10it/s]"
     ]
    },
    {
     "name": "stdout",
     "output_type": "stream",
     "text": [
      "Best Objective Value on Iteration 25: 0.004361486062407494\n",
      "Best Index on Iteration 25: 32\n",
      "Number of Neurons in layer 1 on Iteration 25: 799.0\n",
      "Number of Neurons in layer 2 on Iteration 25: 799.0\n",
      "================================================================================\n"
     ]
    },
    {
     "name": "stderr",
     "output_type": "stream",
     "text": [
      "\n",
      "100%|██████████| 64/64 [01:05<00:00,  1.02s/it]"
     ]
    },
    {
     "name": "stdout",
     "output_type": "stream",
     "text": [
      "Best Objective Value on Iteration 26: 0.004435949493199587\n",
      "Best Index on Iteration 26: 54\n",
      "Number of Neurons in layer 1 on Iteration 26: 792.0\n",
      "Number of Neurons in layer 2 on Iteration 26: 792.0\n",
      "================================================================================\n"
     ]
    },
    {
     "name": "stderr",
     "output_type": "stream",
     "text": [
      "\n",
      "100%|██████████| 64/64 [00:58<00:00,  1.10it/s]"
     ]
    },
    {
     "name": "stdout",
     "output_type": "stream",
     "text": [
      "Best Objective Value on Iteration 27: 0.004513287916779518\n",
      "Best Index on Iteration 27: 38\n",
      "Number of Neurons in layer 1 on Iteration 27: 785.0\n",
      "Number of Neurons in layer 2 on Iteration 27: 785.0\n",
      "================================================================================\n"
     ]
    },
    {
     "name": "stderr",
     "output_type": "stream",
     "text": [
      "\n",
      "100%|██████████| 64/64 [00:57<00:00,  1.12it/s]"
     ]
    },
    {
     "name": "stdout",
     "output_type": "stream",
     "text": [
      "Best Objective Value on Iteration 28: 0.0045944941230118275\n",
      "Best Index on Iteration 28: 37\n",
      "Number of Neurons in layer 1 on Iteration 28: 778.0\n",
      "Number of Neurons in layer 2 on Iteration 28: 778.0\n",
      "================================================================================\n"
     ]
    },
    {
     "name": "stderr",
     "output_type": "stream",
     "text": [
      "\n",
      "100%|██████████| 64/64 [00:58<00:00,  1.09it/s]"
     ]
    },
    {
     "name": "stdout",
     "output_type": "stream",
     "text": [
      "Best Objective Value on Iteration 29: 0.004681011196225882\n",
      "Best Index on Iteration 29: 51\n",
      "Number of Neurons in layer 1 on Iteration 29: 771.0\n",
      "Number of Neurons in layer 2 on Iteration 29: 771.0\n",
      "================================================================================\n"
     ]
    },
    {
     "name": "stderr",
     "output_type": "stream",
     "text": [
      "\n",
      "100%|██████████| 64/64 [00:56<00:00,  1.14it/s]"
     ]
    },
    {
     "name": "stdout",
     "output_type": "stream",
     "text": [
      "Best Objective Value on Iteration 30: 0.0047669606283307076\n",
      "Best Index on Iteration 30: 53\n",
      "Number of Neurons in layer 1 on Iteration 30: 764.0\n",
      "Number of Neurons in layer 2 on Iteration 30: 764.0\n",
      "================================================================================\n"
     ]
    },
    {
     "name": "stderr",
     "output_type": "stream",
     "text": [
      "\n",
      "100%|██████████| 64/64 [00:56<00:00,  1.12it/s]"
     ]
    },
    {
     "name": "stdout",
     "output_type": "stream",
     "text": [
      "Best Objective Value on Iteration 31: 0.004848496522754431\n",
      "Best Index on Iteration 31: 6\n",
      "Number of Neurons in layer 1 on Iteration 31: 757.0\n",
      "Number of Neurons in layer 2 on Iteration 31: 757.0\n",
      "================================================================================\n"
     ]
    },
    {
     "name": "stderr",
     "output_type": "stream",
     "text": [
      "\n",
      "100%|██████████| 64/64 [00:53<00:00,  1.20it/s]"
     ]
    },
    {
     "name": "stdout",
     "output_type": "stream",
     "text": [
      "Best Objective Value on Iteration 32: 0.004950187634676695\n",
      "Best Index on Iteration 32: 18\n",
      "Number of Neurons in layer 1 on Iteration 32: 750.0\n",
      "Number of Neurons in layer 2 on Iteration 32: 750.0\n",
      "================================================================================\n"
     ]
    },
    {
     "name": "stderr",
     "output_type": "stream",
     "text": [
      "\n",
      "100%|██████████| 64/64 [00:52<00:00,  1.22it/s]"
     ]
    },
    {
     "name": "stdout",
     "output_type": "stream",
     "text": [
      "Best Objective Value on Iteration 33: 0.005051175132393837\n",
      "Best Index on Iteration 33: 4\n",
      "Number of Neurons in layer 1 on Iteration 33: 743.0\n",
      "Number of Neurons in layer 2 on Iteration 33: 743.0\n",
      "================================================================================\n"
     ]
    },
    {
     "name": "stderr",
     "output_type": "stream",
     "text": [
      "\n",
      "100%|██████████| 64/64 [00:54<00:00,  1.16it/s]"
     ]
    },
    {
     "name": "stdout",
     "output_type": "stream",
     "text": [
      "Best Objective Value on Iteration 34: 0.005157934036105871\n",
      "Best Index on Iteration 34: 29\n",
      "Number of Neurons in layer 1 on Iteration 34: 736.0\n",
      "Number of Neurons in layer 2 on Iteration 34: 736.0\n",
      "================================================================================\n"
     ]
    },
    {
     "name": "stderr",
     "output_type": "stream",
     "text": [
      "\n",
      "100%|██████████| 64/64 [00:58<00:00,  1.10it/s]"
     ]
    },
    {
     "name": "stdout",
     "output_type": "stream",
     "text": [
      "Best Objective Value on Iteration 35: 0.00526472507044673\n",
      "Best Index on Iteration 35: 61\n",
      "Number of Neurons in layer 1 on Iteration 35: 729.0\n",
      "Number of Neurons in layer 2 on Iteration 35: 729.0\n",
      "================================================================================\n"
     ]
    },
    {
     "name": "stderr",
     "output_type": "stream",
     "text": [
      "\n",
      "100%|██████████| 64/64 [00:55<00:00,  1.16it/s]"
     ]
    },
    {
     "name": "stdout",
     "output_type": "stream",
     "text": [
      "Best Objective Value on Iteration 36: 0.0053803944028913975\n",
      "Best Index on Iteration 36: 9\n",
      "Number of Neurons in layer 1 on Iteration 36: 722.0\n",
      "Number of Neurons in layer 2 on Iteration 36: 722.0\n",
      "================================================================================\n"
     ]
    },
    {
     "name": "stderr",
     "output_type": "stream",
     "text": [
      "\n",
      "100%|██████████| 64/64 [00:52<00:00,  1.21it/s]"
     ]
    },
    {
     "name": "stdout",
     "output_type": "stream",
     "text": [
      "Best Objective Value on Iteration 37: 0.005498683545738459\n",
      "Best Index on Iteration 37: 0\n",
      "Number of Neurons in layer 1 on Iteration 37: 715.0\n",
      "Number of Neurons in layer 2 on Iteration 37: 715.0\n",
      "================================================================================\n"
     ]
    },
    {
     "name": "stderr",
     "output_type": "stream",
     "text": [
      "\n",
      "100%|██████████| 64/64 [00:53<00:00,  1.20it/s]"
     ]
    },
    {
     "name": "stdout",
     "output_type": "stream",
     "text": [
      "Best Objective Value on Iteration 38: 0.005622826050966978\n",
      "Best Index on Iteration 38: 29\n",
      "Number of Neurons in layer 1 on Iteration 38: 708.0\n",
      "Number of Neurons in layer 2 on Iteration 38: 708.0\n",
      "================================================================================\n"
     ]
    },
    {
     "name": "stderr",
     "output_type": "stream",
     "text": [
      "\n",
      "100%|██████████| 64/64 [00:55<00:00,  1.14it/s]"
     ]
    },
    {
     "name": "stdout",
     "output_type": "stream",
     "text": [
      "Best Objective Value on Iteration 39: 0.005730421282351017\n",
      "Best Index on Iteration 39: 41\n",
      "Number of Neurons in layer 1 on Iteration 39: 701.0\n",
      "Number of Neurons in layer 2 on Iteration 39: 701.0\n",
      "================================================================================\n"
     ]
    },
    {
     "name": "stderr",
     "output_type": "stream",
     "text": [
      "\n",
      "100%|██████████| 64/64 [00:53<00:00,  1.19it/s]"
     ]
    },
    {
     "name": "stdout",
     "output_type": "stream",
     "text": [
      "Best Objective Value on Iteration 40: 0.005857251584529877\n",
      "Best Index on Iteration 40: 7\n",
      "Number of Neurons in layer 1 on Iteration 40: 694.0\n",
      "Number of Neurons in layer 2 on Iteration 40: 694.0\n",
      "================================================================================\n"
     ]
    },
    {
     "name": "stderr",
     "output_type": "stream",
     "text": [
      "\n",
      "100%|██████████| 64/64 [00:52<00:00,  1.22it/s]"
     ]
    },
    {
     "name": "stdout",
     "output_type": "stream",
     "text": [
      "Best Objective Value on Iteration 41: 0.005973382852971554\n",
      "Best Index on Iteration 41: 35\n",
      "Number of Neurons in layer 1 on Iteration 41: 688.0\n",
      "Number of Neurons in layer 2 on Iteration 41: 688.0\n",
      "================================================================================\n"
     ]
    },
    {
     "name": "stderr",
     "output_type": "stream",
     "text": [
      "\n",
      "100%|██████████| 64/64 [00:54<00:00,  1.17it/s]"
     ]
    },
    {
     "name": "stdout",
     "output_type": "stream",
     "text": [
      "Best Objective Value on Iteration 42: 0.006091853138059378\n",
      "Best Index on Iteration 42: 41\n",
      "Number of Neurons in layer 1 on Iteration 42: 682.0\n",
      "Number of Neurons in layer 2 on Iteration 42: 682.0\n",
      "================================================================================\n"
     ]
    },
    {
     "name": "stderr",
     "output_type": "stream",
     "text": [
      "\n",
      "100%|██████████| 64/64 [00:55<00:00,  1.16it/s]"
     ]
    },
    {
     "name": "stdout",
     "output_type": "stream",
     "text": [
      "Best Objective Value on Iteration 43: 0.006213004235178232\n",
      "Best Index on Iteration 43: 55\n",
      "Number of Neurons in layer 1 on Iteration 43: 676.0\n",
      "Number of Neurons in layer 2 on Iteration 43: 676.0\n",
      "================================================================================\n"
     ]
    },
    {
     "name": "stderr",
     "output_type": "stream",
     "text": [
      "\n",
      "100%|██████████| 64/64 [00:57<00:00,  1.12it/s]"
     ]
    },
    {
     "name": "stdout",
     "output_type": "stream",
     "text": [
      "Best Objective Value on Iteration 44: 0.006328057963401079\n",
      "Best Index on Iteration 44: 43\n",
      "Number of Neurons in layer 1 on Iteration 44: 670.0\n",
      "Number of Neurons in layer 2 on Iteration 44: 670.0\n",
      "================================================================================\n"
     ]
    },
    {
     "name": "stderr",
     "output_type": "stream",
     "text": [
      "\n",
      "100%|██████████| 64/64 [00:56<00:00,  1.14it/s]"
     ]
    },
    {
     "name": "stdout",
     "output_type": "stream",
     "text": [
      "Best Objective Value on Iteration 45: 0.00645716767758131\n",
      "Best Index on Iteration 45: 6\n",
      "Number of Neurons in layer 1 on Iteration 45: 664.0\n",
      "Number of Neurons in layer 2 on Iteration 45: 664.0\n",
      "================================================================================\n"
     ]
    },
    {
     "name": "stderr",
     "output_type": "stream",
     "text": [
      "\n",
      "100%|██████████| 64/64 [00:52<00:00,  1.22it/s]"
     ]
    },
    {
     "name": "stdout",
     "output_type": "stream",
     "text": [
      "Best Objective Value on Iteration 46: 0.006592088378965855\n",
      "Best Index on Iteration 46: 60\n",
      "Number of Neurons in layer 1 on Iteration 46: 658.0\n",
      "Number of Neurons in layer 2 on Iteration 46: 658.0\n",
      "================================================================================\n"
     ]
    },
    {
     "name": "stderr",
     "output_type": "stream",
     "text": [
      "\n",
      "100%|██████████| 64/64 [00:52<00:00,  1.21it/s]"
     ]
    },
    {
     "name": "stdout",
     "output_type": "stream",
     "text": [
      "Best Objective Value on Iteration 47: 0.006727884523570538\n",
      "Best Index on Iteration 47: 61\n",
      "Number of Neurons in layer 1 on Iteration 47: 652.0\n",
      "Number of Neurons in layer 2 on Iteration 47: 652.0\n",
      "================================================================================\n"
     ]
    },
    {
     "name": "stderr",
     "output_type": "stream",
     "text": [
      "\n",
      "100%|██████████| 64/64 [00:52<00:00,  1.22it/s]"
     ]
    },
    {
     "name": "stdout",
     "output_type": "stream",
     "text": [
      "Best Objective Value on Iteration 48: 0.006877876352518797\n",
      "Best Index on Iteration 48: 38\n",
      "Number of Neurons in layer 1 on Iteration 48: 646.0\n",
      "Number of Neurons in layer 2 on Iteration 48: 646.0\n",
      "================================================================================\n"
     ]
    },
    {
     "name": "stderr",
     "output_type": "stream",
     "text": [
      "\n",
      "100%|██████████| 64/64 [00:58<00:00,  1.10it/s]"
     ]
    },
    {
     "name": "stdout",
     "output_type": "stream",
     "text": [
      "Best Objective Value on Iteration 49: 0.0070150247775018215\n",
      "Best Index on Iteration 49: 54\n",
      "Number of Neurons in layer 1 on Iteration 49: 640.0\n",
      "Number of Neurons in layer 2 on Iteration 49: 640.0\n",
      "================================================================================\n"
     ]
    },
    {
     "name": "stderr",
     "output_type": "stream",
     "text": [
      "\n",
      "100%|██████████| 64/64 [00:53<00:00,  1.19it/s]"
     ]
    },
    {
     "name": "stdout",
     "output_type": "stream",
     "text": [
      "Best Objective Value on Iteration 50: 0.007162090390920639\n",
      "Best Index on Iteration 50: 47\n",
      "Number of Neurons in layer 1 on Iteration 50: 634.0\n",
      "Number of Neurons in layer 2 on Iteration 50: 634.0\n",
      "================================================================================\n"
     ]
    },
    {
     "name": "stderr",
     "output_type": "stream",
     "text": [
      "\n",
      "100%|██████████| 64/64 [00:50<00:00,  1.26it/s]"
     ]
    },
    {
     "name": "stdout",
     "output_type": "stream",
     "text": [
      "Best Objective Value on Iteration 51: 0.00732030812650919\n",
      "Best Index on Iteration 51: 18\n",
      "Number of Neurons in layer 1 on Iteration 51: 628.0\n",
      "Number of Neurons in layer 2 on Iteration 51: 628.0\n",
      "================================================================================\n"
     ]
    },
    {
     "name": "stderr",
     "output_type": "stream",
     "text": [
      "\n",
      "100%|██████████| 64/64 [00:50<00:00,  1.27it/s]"
     ]
    },
    {
     "name": "stdout",
     "output_type": "stream",
     "text": [
      "Best Objective Value on Iteration 52: 0.007485729176551104\n",
      "Best Index on Iteration 52: 52\n",
      "Number of Neurons in layer 1 on Iteration 52: 622.0\n",
      "Number of Neurons in layer 2 on Iteration 52: 622.0\n",
      "================================================================================\n"
     ]
    },
    {
     "name": "stderr",
     "output_type": "stream",
     "text": [
      "\n",
      "100%|██████████| 64/64 [00:51<00:00,  1.25it/s]"
     ]
    },
    {
     "name": "stdout",
     "output_type": "stream",
     "text": [
      "Best Objective Value on Iteration 53: 0.007654916495084763\n",
      "Best Index on Iteration 53: 49\n",
      "Number of Neurons in layer 1 on Iteration 53: 616.0\n",
      "Number of Neurons in layer 2 on Iteration 53: 616.0\n",
      "================================================================================\n"
     ]
    },
    {
     "name": "stderr",
     "output_type": "stream",
     "text": [
      "\n",
      "100%|██████████| 64/64 [00:53<00:00,  1.20it/s]"
     ]
    },
    {
     "name": "stdout",
     "output_type": "stream",
     "text": [
      "Best Objective Value on Iteration 54: 0.007826637476682663\n",
      "Best Index on Iteration 54: 25\n",
      "Number of Neurons in layer 1 on Iteration 54: 610.0\n",
      "Number of Neurons in layer 2 on Iteration 54: 610.0\n",
      "================================================================================\n"
     ]
    },
    {
     "name": "stderr",
     "output_type": "stream",
     "text": [
      "\n",
      "100%|██████████| 64/64 [00:55<00:00,  1.16it/s]"
     ]
    },
    {
     "name": "stdout",
     "output_type": "stream",
     "text": [
      "Best Objective Value on Iteration 55: 0.008002998307347298\n",
      "Best Index on Iteration 55: 52\n",
      "Number of Neurons in layer 1 on Iteration 55: 604.0\n",
      "Number of Neurons in layer 2 on Iteration 55: 604.0\n",
      "================================================================================\n"
     ]
    },
    {
     "name": "stderr",
     "output_type": "stream",
     "text": [
      "\n",
      "100%|██████████| 64/64 [00:54<00:00,  1.18it/s]"
     ]
    },
    {
     "name": "stdout",
     "output_type": "stream",
     "text": [
      "Best Objective Value on Iteration 56: 0.008181864395737648\n",
      "Best Index on Iteration 56: 3\n",
      "Number of Neurons in layer 1 on Iteration 56: 598.0\n",
      "Number of Neurons in layer 2 on Iteration 56: 598.0\n",
      "================================================================================\n"
     ]
    },
    {
     "name": "stderr",
     "output_type": "stream",
     "text": [
      "\n",
      "100%|██████████| 64/64 [00:54<00:00,  1.17it/s]"
     ]
    },
    {
     "name": "stdout",
     "output_type": "stream",
     "text": [
      "Best Objective Value on Iteration 57: 0.008334318175911903\n",
      "Best Index on Iteration 57: 44\n",
      "Number of Neurons in layer 1 on Iteration 57: 593.0\n",
      "Number of Neurons in layer 2 on Iteration 57: 593.0\n",
      "================================================================================\n"
     ]
    },
    {
     "name": "stderr",
     "output_type": "stream",
     "text": [
      "\n",
      "100%|██████████| 64/64 [00:54<00:00,  1.17it/s]"
     ]
    },
    {
     "name": "stdout",
     "output_type": "stream",
     "text": [
      "Best Objective Value on Iteration 58: 0.008477731607854366\n",
      "Best Index on Iteration 58: 13\n",
      "Number of Neurons in layer 1 on Iteration 58: 588.0\n",
      "Number of Neurons in layer 2 on Iteration 58: 588.0\n",
      "================================================================================\n"
     ]
    },
    {
     "name": "stderr",
     "output_type": "stream",
     "text": [
      "\n",
      "100%|██████████| 64/64 [00:54<00:00,  1.18it/s]"
     ]
    },
    {
     "name": "stdout",
     "output_type": "stream",
     "text": [
      "Best Objective Value on Iteration 59: 0.00863884948194027\n",
      "Best Index on Iteration 59: 35\n",
      "Number of Neurons in layer 1 on Iteration 59: 583.0\n",
      "Number of Neurons in layer 2 on Iteration 59: 583.0\n",
      "================================================================================\n"
     ]
    },
    {
     "name": "stderr",
     "output_type": "stream",
     "text": [
      "\n",
      "100%|██████████| 64/64 [00:51<00:00,  1.23it/s]"
     ]
    },
    {
     "name": "stdout",
     "output_type": "stream",
     "text": [
      "Best Objective Value on Iteration 60: 0.008803684264421463\n",
      "Best Index on Iteration 60: 62\n",
      "Number of Neurons in layer 1 on Iteration 60: 578.0\n",
      "Number of Neurons in layer 2 on Iteration 60: 578.0\n",
      "================================================================================\n"
     ]
    },
    {
     "name": "stderr",
     "output_type": "stream",
     "text": [
      "\n",
      "100%|██████████| 64/64 [00:55<00:00,  1.16it/s]"
     ]
    },
    {
     "name": "stdout",
     "output_type": "stream",
     "text": [
      "Best Objective Value on Iteration 61: 0.008978716097772121\n",
      "Best Index on Iteration 61: 58\n",
      "Number of Neurons in layer 1 on Iteration 61: 573.0\n",
      "Number of Neurons in layer 2 on Iteration 61: 573.0\n",
      "================================================================================\n"
     ]
    },
    {
     "name": "stderr",
     "output_type": "stream",
     "text": [
      "\n",
      "100%|██████████| 64/64 [00:52<00:00,  1.21it/s]"
     ]
    },
    {
     "name": "stdout",
     "output_type": "stream",
     "text": [
      "Best Objective Value on Iteration 62: 0.009153840132057667\n",
      "Best Index on Iteration 62: 60\n",
      "Number of Neurons in layer 1 on Iteration 62: 568.0\n",
      "Number of Neurons in layer 2 on Iteration 62: 568.0\n",
      "================================================================================\n"
     ]
    },
    {
     "name": "stderr",
     "output_type": "stream",
     "text": [
      "\n",
      "100%|██████████| 64/64 [00:56<00:00,  1.14it/s]"
     ]
    },
    {
     "name": "stdout",
     "output_type": "stream",
     "text": [
      "Best Objective Value on Iteration 63: 0.009320097975432873\n",
      "Best Index on Iteration 63: 44\n",
      "Number of Neurons in layer 1 on Iteration 63: 563.0\n",
      "Number of Neurons in layer 2 on Iteration 63: 563.0\n",
      "================================================================================\n"
     ]
    },
    {
     "name": "stderr",
     "output_type": "stream",
     "text": [
      "\n",
      "100%|██████████| 64/64 [00:56<00:00,  1.13it/s]"
     ]
    },
    {
     "name": "stdout",
     "output_type": "stream",
     "text": [
      "Best Objective Value on Iteration 64: 0.009495026431977749\n",
      "Best Index on Iteration 64: 52\n",
      "Number of Neurons in layer 1 on Iteration 64: 558.0\n",
      "Number of Neurons in layer 2 on Iteration 64: 558.0\n",
      "================================================================================\n"
     ]
    },
    {
     "name": "stderr",
     "output_type": "stream",
     "text": [
      "\n",
      "100%|██████████| 64/64 [00:53<00:00,  1.21it/s]"
     ]
    },
    {
     "name": "stdout",
     "output_type": "stream",
     "text": [
      "Best Objective Value on Iteration 65: 0.009675626643002033\n",
      "Best Index on Iteration 65: 22\n",
      "Number of Neurons in layer 1 on Iteration 65: 553.0\n",
      "Number of Neurons in layer 2 on Iteration 65: 553.0\n",
      "================================================================================\n"
     ]
    },
    {
     "name": "stderr",
     "output_type": "stream",
     "text": [
      "\n",
      "100%|██████████| 64/64 [00:55<00:00,  1.15it/s]"
     ]
    },
    {
     "name": "stdout",
     "output_type": "stream",
     "text": [
      "Best Objective Value on Iteration 66: 0.009858785197138786\n",
      "Best Index on Iteration 66: 60\n",
      "Number of Neurons in layer 1 on Iteration 66: 548.0\n",
      "Number of Neurons in layer 2 on Iteration 66: 548.0\n",
      "================================================================================\n"
     ]
    },
    {
     "name": "stderr",
     "output_type": "stream",
     "text": [
      "\n",
      "100%|██████████| 64/64 [00:55<00:00,  1.15it/s]"
     ]
    },
    {
     "name": "stdout",
     "output_type": "stream",
     "text": [
      "Best Objective Value on Iteration 67: 0.010064566507935524\n",
      "Best Index on Iteration 67: 21\n",
      "Number of Neurons in layer 1 on Iteration 67: 543.0\n",
      "Number of Neurons in layer 2 on Iteration 67: 543.0\n",
      "================================================================================\n"
     ]
    },
    {
     "name": "stderr",
     "output_type": "stream",
     "text": [
      "\n",
      "100%|██████████| 64/64 [00:58<00:00,  1.09it/s]"
     ]
    },
    {
     "name": "stdout",
     "output_type": "stream",
     "text": [
      "Best Objective Value on Iteration 68: 0.010268873535096645\n",
      "Best Index on Iteration 68: 58\n",
      "Number of Neurons in layer 1 on Iteration 68: 538.0\n",
      "Number of Neurons in layer 2 on Iteration 68: 538.0\n",
      "================================================================================\n"
     ]
    },
    {
     "name": "stderr",
     "output_type": "stream",
     "text": [
      "\n",
      " 88%|████████▊ | 56/64 [00:53<00:07,  1.05it/s]\n"
     ]
    },
    {
     "ename": "KeyboardInterrupt",
     "evalue": "",
     "output_type": "error",
     "traceback": [
      "\u001b[0;31m---------------------------------------------------------------------------\u001b[0m",
      "\u001b[0;31mKeyboardInterrupt\u001b[0m                         Traceback (most recent call last)",
      "Cell \u001b[0;32mIn[541], line 20\u001b[0m\n\u001b[1;32m     17\u001b[0m     expressioned_weights \u001b[38;5;241m=\u001b[39m choose_neurons_numeric([layer1_options[i]\u001b[38;5;241m.\u001b[39mastype(\u001b[38;5;28mbool\u001b[39m), layer2_options[i]\u001b[38;5;241m.\u001b[39mastype(\u001b[38;5;28mbool\u001b[39m)], weights_dict)\n\u001b[1;32m     19\u001b[0m     neural_model \u001b[38;5;241m=\u001b[39m load_new_model(expressioned_weights)\n\u001b[0;32m---> 20\u001b[0m     loss \u001b[38;5;241m=\u001b[39m \u001b[43mtest\u001b[49m\u001b[43m(\u001b[49m\u001b[43mneural_model\u001b[49m\u001b[43m,\u001b[49m\u001b[43m \u001b[49m\u001b[38;5;124;43m'\u001b[39;49m\u001b[38;5;124;43mcpu\u001b[39;49m\u001b[38;5;124;43m'\u001b[39;49m\u001b[43m,\u001b[49m\u001b[43m \u001b[49m\u001b[43mtest_loader\u001b[49m\u001b[43m)\u001b[49m\n\u001b[1;32m     21\u001b[0m     loss_per_option\u001b[38;5;241m.\u001b[39mappend(loss\u001b[38;5;241m.\u001b[39mitem())\n\u001b[1;32m     23\u001b[0m m\u001b[38;5;241m.\u001b[39madd_constraint(m\u001b[38;5;241m.\u001b[39msum(X) \u001b[38;5;241m==\u001b[39m \u001b[38;5;241m1\u001b[39m)\n",
      "Cell \u001b[0;32mIn[537], line 61\u001b[0m, in \u001b[0;36mtest\u001b[0;34m(model, device, test_loader)\u001b[0m\n\u001b[1;32m     58\u001b[0m test_loss \u001b[38;5;241m=\u001b[39m \u001b[38;5;241m0\u001b[39m\n\u001b[1;32m     60\u001b[0m \u001b[38;5;28;01mwith\u001b[39;00m torch\u001b[38;5;241m.\u001b[39mno_grad():\n\u001b[0;32m---> 61\u001b[0m     \u001b[38;5;28;01mfor\u001b[39;00m data, target \u001b[38;5;129;01min\u001b[39;00m test_loader:\n\u001b[1;32m     62\u001b[0m         data, target \u001b[38;5;241m=\u001b[39m data\u001b[38;5;241m.\u001b[39mto(device), target\u001b[38;5;241m.\u001b[39mto(device)\n\u001b[1;32m     63\u001b[0m         output \u001b[38;5;241m=\u001b[39m model(data)\n",
      "File \u001b[0;32m~/GithubRepos/BI_Project/venv/lib/python3.10/site-packages/torch/utils/data/dataloader.py:631\u001b[0m, in \u001b[0;36m_BaseDataLoaderIter.__next__\u001b[0;34m(self)\u001b[0m\n\u001b[1;32m    628\u001b[0m \u001b[38;5;28;01mif\u001b[39;00m \u001b[38;5;28mself\u001b[39m\u001b[38;5;241m.\u001b[39m_sampler_iter \u001b[38;5;129;01mis\u001b[39;00m \u001b[38;5;28;01mNone\u001b[39;00m:\n\u001b[1;32m    629\u001b[0m     \u001b[38;5;66;03m# TODO(https://github.com/pytorch/pytorch/issues/76750)\u001b[39;00m\n\u001b[1;32m    630\u001b[0m     \u001b[38;5;28mself\u001b[39m\u001b[38;5;241m.\u001b[39m_reset()  \u001b[38;5;66;03m# type: ignore[call-arg]\u001b[39;00m\n\u001b[0;32m--> 631\u001b[0m data \u001b[38;5;241m=\u001b[39m \u001b[38;5;28;43mself\u001b[39;49m\u001b[38;5;241;43m.\u001b[39;49m\u001b[43m_next_data\u001b[49m\u001b[43m(\u001b[49m\u001b[43m)\u001b[49m\n\u001b[1;32m    632\u001b[0m \u001b[38;5;28mself\u001b[39m\u001b[38;5;241m.\u001b[39m_num_yielded \u001b[38;5;241m+\u001b[39m\u001b[38;5;241m=\u001b[39m \u001b[38;5;241m1\u001b[39m\n\u001b[1;32m    633\u001b[0m \u001b[38;5;28;01mif\u001b[39;00m \u001b[38;5;28mself\u001b[39m\u001b[38;5;241m.\u001b[39m_dataset_kind \u001b[38;5;241m==\u001b[39m _DatasetKind\u001b[38;5;241m.\u001b[39mIterable \u001b[38;5;129;01mand\u001b[39;00m \\\n\u001b[1;32m    634\u001b[0m         \u001b[38;5;28mself\u001b[39m\u001b[38;5;241m.\u001b[39m_IterableDataset_len_called \u001b[38;5;129;01mis\u001b[39;00m \u001b[38;5;129;01mnot\u001b[39;00m \u001b[38;5;28;01mNone\u001b[39;00m \u001b[38;5;129;01mand\u001b[39;00m \\\n\u001b[1;32m    635\u001b[0m         \u001b[38;5;28mself\u001b[39m\u001b[38;5;241m.\u001b[39m_num_yielded \u001b[38;5;241m>\u001b[39m \u001b[38;5;28mself\u001b[39m\u001b[38;5;241m.\u001b[39m_IterableDataset_len_called:\n",
      "File \u001b[0;32m~/GithubRepos/BI_Project/venv/lib/python3.10/site-packages/torch/utils/data/dataloader.py:675\u001b[0m, in \u001b[0;36m_SingleProcessDataLoaderIter._next_data\u001b[0;34m(self)\u001b[0m\n\u001b[1;32m    673\u001b[0m \u001b[38;5;28;01mdef\u001b[39;00m \u001b[38;5;21m_next_data\u001b[39m(\u001b[38;5;28mself\u001b[39m):\n\u001b[1;32m    674\u001b[0m     index \u001b[38;5;241m=\u001b[39m \u001b[38;5;28mself\u001b[39m\u001b[38;5;241m.\u001b[39m_next_index()  \u001b[38;5;66;03m# may raise StopIteration\u001b[39;00m\n\u001b[0;32m--> 675\u001b[0m     data \u001b[38;5;241m=\u001b[39m \u001b[38;5;28;43mself\u001b[39;49m\u001b[38;5;241;43m.\u001b[39;49m\u001b[43m_dataset_fetcher\u001b[49m\u001b[38;5;241;43m.\u001b[39;49m\u001b[43mfetch\u001b[49m\u001b[43m(\u001b[49m\u001b[43mindex\u001b[49m\u001b[43m)\u001b[49m  \u001b[38;5;66;03m# may raise StopIteration\u001b[39;00m\n\u001b[1;32m    676\u001b[0m     \u001b[38;5;28;01mif\u001b[39;00m \u001b[38;5;28mself\u001b[39m\u001b[38;5;241m.\u001b[39m_pin_memory:\n\u001b[1;32m    677\u001b[0m         data \u001b[38;5;241m=\u001b[39m _utils\u001b[38;5;241m.\u001b[39mpin_memory\u001b[38;5;241m.\u001b[39mpin_memory(data, \u001b[38;5;28mself\u001b[39m\u001b[38;5;241m.\u001b[39m_pin_memory_device)\n",
      "File \u001b[0;32m~/GithubRepos/BI_Project/venv/lib/python3.10/site-packages/torch/utils/data/_utils/fetch.py:49\u001b[0m, in \u001b[0;36m_MapDatasetFetcher.fetch\u001b[0;34m(self, possibly_batched_index)\u001b[0m\n\u001b[1;32m     47\u001b[0m \u001b[38;5;28;01mif\u001b[39;00m \u001b[38;5;28mself\u001b[39m\u001b[38;5;241m.\u001b[39mauto_collation:\n\u001b[1;32m     48\u001b[0m     \u001b[38;5;28;01mif\u001b[39;00m \u001b[38;5;28mhasattr\u001b[39m(\u001b[38;5;28mself\u001b[39m\u001b[38;5;241m.\u001b[39mdataset, \u001b[38;5;124m\"\u001b[39m\u001b[38;5;124m__getitems__\u001b[39m\u001b[38;5;124m\"\u001b[39m) \u001b[38;5;129;01mand\u001b[39;00m \u001b[38;5;28mself\u001b[39m\u001b[38;5;241m.\u001b[39mdataset\u001b[38;5;241m.\u001b[39m__getitems__:\n\u001b[0;32m---> 49\u001b[0m         data \u001b[38;5;241m=\u001b[39m \u001b[38;5;28;43mself\u001b[39;49m\u001b[38;5;241;43m.\u001b[39;49m\u001b[43mdataset\u001b[49m\u001b[38;5;241;43m.\u001b[39;49m\u001b[43m__getitems__\u001b[49m\u001b[43m(\u001b[49m\u001b[43mpossibly_batched_index\u001b[49m\u001b[43m)\u001b[49m\n\u001b[1;32m     50\u001b[0m     \u001b[38;5;28;01melse\u001b[39;00m:\n\u001b[1;32m     51\u001b[0m         data \u001b[38;5;241m=\u001b[39m [\u001b[38;5;28mself\u001b[39m\u001b[38;5;241m.\u001b[39mdataset[idx] \u001b[38;5;28;01mfor\u001b[39;00m idx \u001b[38;5;129;01min\u001b[39;00m possibly_batched_index]\n",
      "File \u001b[0;32m~/GithubRepos/BI_Project/venv/lib/python3.10/site-packages/torch/utils/data/dataset.py:419\u001b[0m, in \u001b[0;36mSubset.__getitems__\u001b[0;34m(self, indices)\u001b[0m\n\u001b[1;32m    417\u001b[0m     \u001b[38;5;28;01mreturn\u001b[39;00m \u001b[38;5;28mself\u001b[39m\u001b[38;5;241m.\u001b[39mdataset\u001b[38;5;241m.\u001b[39m__getitems__([\u001b[38;5;28mself\u001b[39m\u001b[38;5;241m.\u001b[39mindices[idx] \u001b[38;5;28;01mfor\u001b[39;00m idx \u001b[38;5;129;01min\u001b[39;00m indices])  \u001b[38;5;66;03m# type: ignore[attr-defined]\u001b[39;00m\n\u001b[1;32m    418\u001b[0m \u001b[38;5;28;01melse\u001b[39;00m:\n\u001b[0;32m--> 419\u001b[0m     \u001b[38;5;28;01mreturn\u001b[39;00m [\u001b[38;5;28mself\u001b[39m\u001b[38;5;241m.\u001b[39mdataset[\u001b[38;5;28mself\u001b[39m\u001b[38;5;241m.\u001b[39mindices[idx]] \u001b[38;5;28;01mfor\u001b[39;00m idx \u001b[38;5;129;01min\u001b[39;00m indices]\n",
      "File \u001b[0;32m~/GithubRepos/BI_Project/venv/lib/python3.10/site-packages/torch/utils/data/dataset.py:419\u001b[0m, in \u001b[0;36m<listcomp>\u001b[0;34m(.0)\u001b[0m\n\u001b[1;32m    417\u001b[0m     \u001b[38;5;28;01mreturn\u001b[39;00m \u001b[38;5;28mself\u001b[39m\u001b[38;5;241m.\u001b[39mdataset\u001b[38;5;241m.\u001b[39m__getitems__([\u001b[38;5;28mself\u001b[39m\u001b[38;5;241m.\u001b[39mindices[idx] \u001b[38;5;28;01mfor\u001b[39;00m idx \u001b[38;5;129;01min\u001b[39;00m indices])  \u001b[38;5;66;03m# type: ignore[attr-defined]\u001b[39;00m\n\u001b[1;32m    418\u001b[0m \u001b[38;5;28;01melse\u001b[39;00m:\n\u001b[0;32m--> 419\u001b[0m     \u001b[38;5;28;01mreturn\u001b[39;00m [\u001b[38;5;28;43mself\u001b[39;49m\u001b[38;5;241;43m.\u001b[39;49m\u001b[43mdataset\u001b[49m\u001b[43m[\u001b[49m\u001b[38;5;28;43mself\u001b[39;49m\u001b[38;5;241;43m.\u001b[39;49m\u001b[43mindices\u001b[49m\u001b[43m[\u001b[49m\u001b[43midx\u001b[49m\u001b[43m]\u001b[49m\u001b[43m]\u001b[49m \u001b[38;5;28;01mfor\u001b[39;00m idx \u001b[38;5;129;01min\u001b[39;00m indices]\n",
      "File \u001b[0;32m~/GithubRepos/BI_Project/venv/lib/python3.10/site-packages/torchvision/datasets/mnist.py:139\u001b[0m, in \u001b[0;36mMNIST.__getitem__\u001b[0;34m(self, index)\u001b[0m\n\u001b[1;32m    131\u001b[0m \u001b[38;5;28;01mdef\u001b[39;00m \u001b[38;5;21m__getitem__\u001b[39m(\u001b[38;5;28mself\u001b[39m, index: \u001b[38;5;28mint\u001b[39m) \u001b[38;5;241m-\u001b[39m\u001b[38;5;241m>\u001b[39m Tuple[Any, Any]:\n\u001b[1;32m    132\u001b[0m \u001b[38;5;250m    \u001b[39m\u001b[38;5;124;03m\"\"\"\u001b[39;00m\n\u001b[1;32m    133\u001b[0m \u001b[38;5;124;03m    Args:\u001b[39;00m\n\u001b[1;32m    134\u001b[0m \u001b[38;5;124;03m        index (int): Index\u001b[39;00m\n\u001b[0;32m   (...)\u001b[0m\n\u001b[1;32m    137\u001b[0m \u001b[38;5;124;03m        tuple: (image, target) where target is index of the target class.\u001b[39;00m\n\u001b[1;32m    138\u001b[0m \u001b[38;5;124;03m    \"\"\"\u001b[39;00m\n\u001b[0;32m--> 139\u001b[0m     img, target \u001b[38;5;241m=\u001b[39m \u001b[38;5;28mself\u001b[39m\u001b[38;5;241m.\u001b[39mdata[index], \u001b[38;5;28;43mint\u001b[39;49m\u001b[43m(\u001b[49m\u001b[38;5;28;43mself\u001b[39;49m\u001b[38;5;241;43m.\u001b[39;49m\u001b[43mtargets\u001b[49m\u001b[43m[\u001b[49m\u001b[43mindex\u001b[49m\u001b[43m]\u001b[49m\u001b[43m)\u001b[49m\n\u001b[1;32m    141\u001b[0m     \u001b[38;5;66;03m# doing this so that it is consistent with all other datasets\u001b[39;00m\n\u001b[1;32m    142\u001b[0m     \u001b[38;5;66;03m# to return a PIL Image\u001b[39;00m\n\u001b[1;32m    143\u001b[0m     img \u001b[38;5;241m=\u001b[39m Image\u001b[38;5;241m.\u001b[39mfromarray(img\u001b[38;5;241m.\u001b[39mnumpy(), mode\u001b[38;5;241m=\u001b[39m\u001b[38;5;124m\"\u001b[39m\u001b[38;5;124mL\u001b[39m\u001b[38;5;124m\"\u001b[39m)\n",
      "\u001b[0;31mKeyboardInterrupt\u001b[0m: "
     ]
    }
   ],
   "source": [
    "np.random.seed(41)\n",
    "\n",
    "layer1_chosen_neurons = np.ones(1024)\n",
    "layer2_chosen_neurons = np.ones(1024)\n",
    "\n",
    "for iteration in range(iterations):\n",
    "    m = Model()\n",
    "\n",
    "    X = m.binary_var_list(options_per_step, name='option')\n",
    "\n",
    "    layer1_options = [apply_random_change(layer1_chosen_neurons, random_change_perc) for _ in range(options_per_step)]\n",
    "    layer2_options = [apply_random_change(layer2_chosen_neurons, random_change_perc) for _ in range(options_per_step)]\n",
    "\n",
    "    loss_per_option = []\n",
    "\n",
    "    for i in tqdm(range(options_per_step)):\n",
    "        expressioned_weights = choose_neurons_numeric([layer1_options[i].astype(bool), layer2_options[i].astype(bool)], weights_dict)\n",
    "        \n",
    "        neural_model = load_new_model(expressioned_weights)\n",
    "        loss = test(neural_model, 'cpu', test_loader)\n",
    "        loss_per_option.append(loss.item())\n",
    "\n",
    "    m.add_constraint(m.sum(X) == 1)\n",
    "\n",
    "    m.minimize(m.sum([X[i] * loss_per_option[i] for i in range(options_per_step)]))\n",
    "    solution = m.solve()\n",
    "    best_index = int(json.loads(solution.export_as_json_string())['CPLEXSolution']['variables'][0]['index'])\n",
    "\n",
    "    layer1_chosen_neurons = layer1_options[best_index]\n",
    "    layer2_chosen_neurons = layer2_options[best_index]\n",
    "\n",
    "    print(f'Best Objective Value on Iteration {iteration}: {solution.get_objective_value()}')\n",
    "    print(f'Best Index on Iteration {iteration}: {best_index}')\n",
    "    print(f'Number of Neurons in layer 1 on Iteration {iteration}: {layer1_chosen_neurons.sum()}')\n",
    "    print(f'Number of Neurons in layer 2 on Iteration {iteration}: {layer2_chosen_neurons.sum()}')\n",
    "    print('='*80)"
   ]
  },
  {
   "cell_type": "markdown",
   "metadata": {},
   "source": [
    " 0%|          | 0/64 [00:00<?, ?it/s]\n",
    "100%|██████████| 64/64 [01:10<00:00,  1.10s/it]\n",
    "Best Objective Value on Iteration 0: 0.003250337205827236\n",
    "Best Index on Iteration 0: 38\n",
    "Number of Neurons in layer 1 on Iteration 0: 1014.0\n",
    "Number of Neurons in layer 2 on Iteration 0: 1014.0\n",
    "________________________________\n",
    "\n",
    "100%|██████████| 64/64 [01:03<00:00,  1.01it/s]\n",
    "Best Objective Value on Iteration 1: 0.0032602252904325724\n",
    "Best Index on Iteration 1: 56\n",
    "Number of Neurons in layer 1 on Iteration 1: 1004.0\n",
    "Number of Neurons in layer 2 on Iteration 1: 1004.0\n",
    "________________________________\n",
    "\n",
    "100%|██████████| 64/64 [01:01<00:00,  1.04it/s]\n",
    "Best Objective Value on Iteration 2: 0.0032757630106061697\n",
    "Best Index on Iteration 2: 38\n",
    "Number of Neurons in layer 1 on Iteration 2: 994.0\n",
    "Number of Neurons in layer 2 on Iteration 2: 994.0\n",
    "________________________________\n",
    "\n",
    "100%|██████████| 64/64 [01:08<00:00,  1.07s/it]\n",
    "Best Objective Value on Iteration 3: 0.0032864841632544994\n",
    "Best Index on Iteration 3: 38\n",
    "Number of Neurons in layer 1 on Iteration 3: 985.0\n",
    "Number of Neurons in layer 2 on Iteration 3: 985.0\n",
    "________________________________\n",
    "\n",
    "100%|██████████| 64/64 [01:01<00:00,  1.04it/s]\n",
    "Best Objective Value on Iteration 4: 0.0033089725766330957\n",
    "Best Index on Iteration 4: 7\n",
    "Number of Neurons in layer 1 on Iteration 4: 976.0\n",
    "Number of Neurons in layer 2 on Iteration 4: 976.0\n",
    "________________________________\n",
    "\n",
    "100%|██████████| 64/64 [01:01<00:00,  1.04it/s]\n",
    "Best Objective Value on Iteration 5: 0.0033253540750592947\n",
    "Best Index on Iteration 5: 50\n",
    "Number of Neurons in layer 1 on Iteration 5: 967.0\n",
    "Number of Neurons in layer 2 on Iteration 5: 967.0\n",
    "________________________________\n",
    "\n",
    "100%|██████████| 64/64 [01:07<00:00,  1.06s/it]\n",
    "Best Objective Value on Iteration 6: 0.003354686079546809\n",
    "Best Index on Iteration 6: 15\n",
    "Number of Neurons in layer 1 on Iteration 6: 958.0\n",
    "Number of Neurons in layer 2 on Iteration 6: 958.0\n",
    "________________________________\n",
    "\n",
    "100%|██████████| 64/64 [01:13<00:00,  1.14s/it]\n",
    "Best Objective Value on Iteration 7: 0.0033849431201815605\n",
    "Best Index on Iteration 7: 8\n",
    "Number of Neurons in layer 1 on Iteration 7: 949.0\n",
    "Number of Neurons in layer 2 on Iteration 7: 949.0\n",
    "________________________________\n",
    "\n",
    "100%|██████████| 64/64 [01:02<00:00,  1.02it/s]\n",
    "Best Objective Value on Iteration 8: 0.003417019732296467\n",
    "Best Index on Iteration 8: 59\n",
    "Number of Neurons in layer 1 on Iteration 8: 940.0\n",
    "Number of Neurons in layer 2 on Iteration 8: 940.0\n",
    "________________________________\n",
    "\n",
    "100%|██████████| 64/64 [01:03<00:00,  1.00it/s]\n",
    "Best Objective Value on Iteration 9: 0.0034545580856502056\n",
    "Best Index on Iteration 9: 34\n",
    "Number of Neurons in layer 1 on Iteration 9: 931.0\n",
    "Number of Neurons in layer 2 on Iteration 9: 931.0\n",
    "________________________________\n",
    "\n",
    "100%|██████████| 64/64 [01:02<00:00,  1.03it/s]\n",
    "Best Objective Value on Iteration 10: 0.0034880656749010086\n",
    "Best Index on Iteration 10: 43\n",
    "Number of Neurons in layer 1 on Iteration 10: 922.0\n",
    "Number of Neurons in layer 2 on Iteration 10: 922.0\n",
    "________________________________\n",
    "\n",
    "100%|██████████| 64/64 [01:02<00:00,  1.02it/s]\n",
    "Best Objective Value on Iteration 11: 0.0035304538905620575\n",
    "Best Index on Iteration 11: 26\n",
    "Number of Neurons in layer 1 on Iteration 11: 913.0\n",
    "Number of Neurons in layer 2 on Iteration 11: 913.0\n",
    "________________________________\n",
    "\n",
    "100%|██████████| 64/64 [01:03<00:00,  1.02it/s]\n",
    "Best Objective Value on Iteration 12: 0.0035760158207267523\n",
    "Best Index on Iteration 12: 61\n",
    "Number of Neurons in layer 1 on Iteration 12: 904.0\n",
    "Number of Neurons in layer 2 on Iteration 12: 904.0\n",
    "________________________________\n",
    "\n",
    "100%|██████████| 64/64 [01:02<00:00,  1.03it/s]\n",
    "Best Objective Value on Iteration 13: 0.003626028774306178\n",
    "Best Index on Iteration 13: 40\n",
    "Number of Neurons in layer 1 on Iteration 13: 895.0\n",
    "Number of Neurons in layer 2 on Iteration 13: 895.0\n",
    "________________________________\n",
    "\n",
    "100%|██████████| 64/64 [01:00<00:00,  1.05it/s]\n",
    "Best Objective Value on Iteration 14: 0.003668603952974081\n",
    "Best Index on Iteration 14: 9\n",
    "Number of Neurons in layer 1 on Iteration 14: 887.0\n",
    "Number of Neurons in layer 2 on Iteration 14: 887.0\n",
    "________________________________\n",
    "\n",
    "100%|██████████| 64/64 [00:59<00:00,  1.07it/s]\n",
    "Best Objective Value on Iteration 15: 0.0037087001837790012\n",
    "Best Index on Iteration 15: 48\n",
    "Number of Neurons in layer 1 on Iteration 15: 879.0\n",
    "Number of Neurons in layer 2 on Iteration 15: 879.0\n",
    "________________________________\n",
    "\n",
    "100%|██████████| 64/64 [01:01<00:00,  1.04it/s]\n",
    "Best Objective Value on Iteration 16: 0.003759735031053424\n",
    "Best Index on Iteration 16: 52\n",
    "Number of Neurons in layer 1 on Iteration 16: 871.0\n",
    "Number of Neurons in layer 2 on Iteration 16: 871.0\n",
    "________________________________\n",
    "\n",
    "100%|██████████| 64/64 [01:00<00:00,  1.05it/s]\n",
    "Best Objective Value on Iteration 17: 0.0038104176055639982\n",
    "Best Index on Iteration 17: 24\n",
    "Number of Neurons in layer 1 on Iteration 17: 863.0\n",
    "Number of Neurons in layer 2 on Iteration 17: 863.0\n",
    "________________________________\n",
    "\n",
    "100%|██████████| 64/64 [01:00<00:00,  1.06it/s]\n",
    "Best Objective Value on Iteration 18: 0.0038675800897181034\n",
    "Best Index on Iteration 18: 47\n",
    "Number of Neurons in layer 1 on Iteration 18: 855.0\n",
    "Number of Neurons in layer 2 on Iteration 18: 855.0\n",
    "________________________________\n",
    "\n",
    "100%|██████████| 64/64 [00:57<00:00,  1.11it/s]\n",
    "Best Objective Value on Iteration 19: 0.003922298084944487\n",
    "Best Index on Iteration 19: 18\n",
    "Number of Neurons in layer 1 on Iteration 19: 847.0\n",
    "Number of Neurons in layer 2 on Iteration 19: 847.0\n",
    "________________________________\n",
    "\n",
    "100%|██████████| 64/64 [01:01<00:00,  1.04it/s]\n",
    "Best Objective Value on Iteration 20: 0.003985384479165077\n",
    "Best Index on Iteration 20: 43\n",
    "Number of Neurons in layer 1 on Iteration 20: 839.0\n",
    "Number of Neurons in layer 2 on Iteration 20: 839.0\n",
    "________________________________\n",
    "\n",
    "100%|██████████| 64/64 [00:59<00:00,  1.08it/s]\n",
    "Best Objective Value on Iteration 21: 0.004053016193211079\n",
    "Best Index on Iteration 21: 3\n",
    "Number of Neurons in layer 1 on Iteration 21: 831.0\n",
    "Number of Neurons in layer 2 on Iteration 21: 831.0\n",
    "________________________________\n",
    "\n",
    "100%|██████████| 64/64 [00:56<00:00,  1.13it/s]\n",
    "Best Objective Value on Iteration 22: 0.004124375060200691\n",
    "Best Index on Iteration 22: 54\n",
    "Number of Neurons in layer 1 on Iteration 22: 823.0\n",
    "Number of Neurons in layer 2 on Iteration 22: 823.0\n",
    "________________________________\n",
    "\n",
    "100%|██████████| 64/64 [00:55<00:00,  1.15it/s]\n",
    "Best Objective Value on Iteration 23: 0.004197209142148495\n",
    "Best Index on Iteration 23: 32\n",
    "Number of Neurons in layer 1 on Iteration 23: 815.0\n",
    "Number of Neurons in layer 2 on Iteration 23: 815.0\n",
    "________________________________\n",
    "\n",
    "100%|██████████| 64/64 [00:57<00:00,  1.12it/s]\n",
    "Best Objective Value on Iteration 24: 0.004277561791241169\n",
    "Best Index on Iteration 24: 59\n",
    "Number of Neurons in layer 1 on Iteration 24: 807.0\n",
    "Number of Neurons in layer 2 on Iteration 24: 807.0\n",
    "________________________________\n",
    "\n",
    "100%|██████████| 64/64 [00:58<00:00,  1.10it/s]\n",
    "Best Objective Value on Iteration 25: 0.004361486062407494\n",
    "Best Index on Iteration 25: 32\n",
    "Number of Neurons in layer 1 on Iteration 25: 799.0\n",
    "Number of Neurons in layer 2 on Iteration 25: 799.0\n",
    "________________________________\n",
    "\n",
    "100%|██████████| 64/64 [01:05<00:00,  1.02s/it]\n",
    "Best Objective Value on Iteration 26: 0.004435949493199587\n",
    "Best Index on Iteration 26: 54\n",
    "Number of Neurons in layer 1 on Iteration 26: 792.0\n",
    "Number of Neurons in layer 2 on Iteration 26: 792.0\n",
    "________________________________\n",
    "\n",
    "100%|██████████| 64/64 [00:58<00:00,  1.10it/s]\n",
    "Best Objective Value on Iteration 27: 0.004513287916779518\n",
    "Best Index on Iteration 27: 38\n",
    "Number of Neurons in layer 1 on Iteration 27: 785.0\n",
    "Number of Neurons in layer 2 on Iteration 27: 785.0\n",
    "________________________________\n",
    "\n",
    "100%|██████████| 64/64 [00:57<00:00,  1.12it/s]\n",
    "Best Objective Value on Iteration 28: 0.0045944941230118275\n",
    "Best Index on Iteration 28: 37\n",
    "Number of Neurons in layer 1 on Iteration 28: 778.0\n",
    "Number of Neurons in layer 2 on Iteration 28: 778.0\n",
    "________________________________\n",
    "\n",
    "100%|██████████| 64/64 [00:58<00:00,  1.09it/s]\n",
    "Best Objective Value on Iteration 29: 0.004681011196225882\n",
    "Best Index on Iteration 29: 51\n",
    "Number of Neurons in layer 1 on Iteration 29: 771.0\n",
    "Number of Neurons in layer 2 on Iteration 29: 771.0\n",
    "________________________________\n",
    "\n",
    "100%|██████████| 64/64 [00:56<00:00,  1.14it/s]\n",
    "Best Objective Value on Iteration 30: 0.0047669606283307076\n",
    "Best Index on Iteration 30: 53\n",
    "Number of Neurons in layer 1 on Iteration 30: 764.0\n",
    "Number of Neurons in layer 2 on Iteration 30: 764.0\n",
    "________________________________\n",
    "\n",
    "100%|██████████| 64/64 [00:56<00:00,  1.12it/s]\n",
    "Best Objective Value on Iteration 31: 0.004848496522754431\n",
    "Best Index on Iteration 31: 6\n",
    "Number of Neurons in layer 1 on Iteration 31: 757.0\n",
    "Number of Neurons in layer 2 on Iteration 31: 757.0\n",
    "________________________________\n",
    "\n",
    "100%|██████████| 64/64 [00:53<00:00,  1.20it/s]\n",
    "Best Objective Value on Iteration 32: 0.004950187634676695\n",
    "Best Index on Iteration 32: 18\n",
    "Number of Neurons in layer 1 on Iteration 32: 750.0\n",
    "Number of Neurons in layer 2 on Iteration 32: 750.0\n",
    "________________________________\n",
    "\n",
    "100%|██████████| 64/64 [00:52<00:00,  1.22it/s]\n",
    "Best Objective Value on Iteration 33: 0.005051175132393837\n",
    "Best Index on Iteration 33: 4\n",
    "Number of Neurons in layer 1 on Iteration 33: 743.0\n",
    "Number of Neurons in layer 2 on Iteration 33: 743.0\n",
    "________________________________\n",
    "\n",
    "100%|██████████| 64/64 [00:54<00:00,  1.16it/s]\n",
    "Best Objective Value on Iteration 34: 0.005157934036105871\n",
    "Best Index on Iteration 34: 29\n",
    "Number of Neurons in layer 1 on Iteration 34: 736.0\n",
    "Number of Neurons in layer 2 on Iteration 34: 736.0\n",
    "________________________________\n",
    "\n",
    "100%|██████████| 64/64 [00:58<00:00,  1.10it/s]\n",
    "Best Objective Value on Iteration 35: 0.00526472507044673\n",
    "Best Index on Iteration 35: 61\n",
    "Number of Neurons in layer 1 on Iteration 35: 729.0\n",
    "Number of Neurons in layer 2 on Iteration 35: 729.0\n",
    "________________________________\n",
    "\n",
    "100%|██████████| 64/64 [00:55<00:00,  1.16it/s]\n",
    "Best Objective Value on Iteration 36: 0.0053803944028913975\n",
    "Best Index on Iteration 36: 9\n",
    "Number of Neurons in layer 1 on Iteration 36: 722.0\n",
    "Number of Neurons in layer 2 on Iteration 36: 722.0\n",
    "________________________________\n",
    "\n",
    "100%|██████████| 64/64 [00:52<00:00,  1.21it/s]\n",
    "Best Objective Value on Iteration 37: 0.005498683545738459\n",
    "Best Index on Iteration 37: 0\n",
    "Number of Neurons in layer 1 on Iteration 37: 715.0\n",
    "Number of Neurons in layer 2 on Iteration 37: 715.0\n",
    "________________________________\n",
    "\n",
    "100%|██████████| 64/64 [00:53<00:00,  1.20it/s]\n",
    "Best Objective Value on Iteration 38: 0.005622826050966978\n",
    "Best Index on Iteration 38: 29\n",
    "Number of Neurons in layer 1 on Iteration 38: 708.0\n",
    "Number of Neurons in layer 2 on Iteration 38: 708.0\n",
    "________________________________\n",
    "\n",
    "100%|██████████| 64/64 [00:55<00:00,  1.14it/s]\n",
    "Best Objective Value on Iteration 39: 0.005730421282351017\n",
    "Best Index on Iteration 39: 41\n",
    "Number of Neurons in layer 1 on Iteration 39: 701.0\n",
    "Number of Neurons in layer 2 on Iteration 39: 701.0\n",
    "________________________________\n",
    "\n",
    "100%|██████████| 64/64 [00:53<00:00,  1.19it/s]\n",
    "Best Objective Value on Iteration 40: 0.005857251584529877\n",
    "Best Index on Iteration 40: 7\n",
    "Number of Neurons in layer 1 on Iteration 40: 694.0\n",
    "Number of Neurons in layer 2 on Iteration 40: 694.0\n",
    "________________________________\n",
    "\n",
    "100%|██████████| 64/64 [00:52<00:00,  1.22it/s]\n",
    "Best Objective Value on Iteration 41: 0.005973382852971554\n",
    "Best Index on Iteration 41: 35\n",
    "Number of Neurons in layer 1 on Iteration 41: 688.0\n",
    "Number of Neurons in layer 2 on Iteration 41: 688.0\n",
    "________________________________\n",
    "\n",
    "100%|██████████| 64/64 [00:54<00:00,  1.17it/s]\n",
    "Best Objective Value on Iteration 42: 0.006091853138059378\n",
    "Best Index on Iteration 42: 41\n",
    "Number of Neurons in layer 1 on Iteration 42: 682.0\n",
    "Number of Neurons in layer 2 on Iteration 42: 682.0\n",
    "________________________________\n",
    "\n",
    "100%|██████████| 64/64 [00:55<00:00,  1.16it/s]\n",
    "Best Objective Value on Iteration 43: 0.006213004235178232\n",
    "Best Index on Iteration 43: 55\n",
    "Number of Neurons in layer 1 on Iteration 43: 676.0\n",
    "Number of Neurons in layer 2 on Iteration 43: 676.0\n",
    "________________________________\n",
    "\n",
    "100%|██████████| 64/64 [00:57<00:00,  1.12it/s]\n",
    "Best Objective Value on Iteration 44: 0.006328057963401079\n",
    "Best Index on Iteration 44: 43\n",
    "Number of Neurons in layer 1 on Iteration 44: 670.0\n",
    "Number of Neurons in layer 2 on Iteration 44: 670.0\n",
    "________________________________\n",
    "\n",
    "100%|██████████| 64/64 [00:56<00:00,  1.14it/s]\n",
    "Best Objective Value on Iteration 45: 0.00645716767758131\n",
    "Best Index on Iteration 45: 6\n",
    "Number of Neurons in layer 1 on Iteration 45: 664.0\n",
    "Number of Neurons in layer 2 on Iteration 45: 664.0\n",
    "________________________________\n",
    "\n",
    "100%|██████████| 64/64 [00:52<00:00,  1.22it/s]\n",
    "Best Objective Value on Iteration 46: 0.006592088378965855\n",
    "Best Index on Iteration 46: 60\n",
    "Number of Neurons in layer 1 on Iteration 46: 658.0\n",
    "Number of Neurons in layer 2 on Iteration 46: 658.0\n",
    "________________________________\n",
    "\n",
    "100%|██████████| 64/64 [00:52<00:00,  1.21it/s]\n",
    "Best Objective Value on Iteration 47: 0.006727884523570538\n",
    "Best Index on Iteration 47: 61\n",
    "Number of Neurons in layer 1 on Iteration 47: 652.0\n",
    "Number of Neurons in layer 2 on Iteration 47: 652.0\n",
    "________________________________\n",
    "\n",
    "100%|██████████| 64/64 [00:52<00:00,  1.22it/s]\n",
    "Best Objective Value on Iteration 48: 0.006877876352518797\n",
    "Best Index on Iteration 48: 38\n",
    "Number of Neurons in layer 1 on Iteration 48: 646.0\n",
    "Number of Neurons in layer 2 on Iteration 48: 646.0\n",
    "________________________________\n",
    "\n",
    "100%|██████████| 64/64 [00:58<00:00,  1.10it/s]\n",
    "Best Objective Value on Iteration 49: 0.0070150247775018215\n",
    "Best Index on Iteration 49: 54\n",
    "Number of Neurons in layer 1 on Iteration 49: 640.0\n",
    "Number of Neurons in layer 2 on Iteration 49: 640.0\n",
    "________________________________\n",
    "\n",
    "100%|██████████| 64/64 [00:53<00:00,  1.19it/s]\n",
    "Best Objective Value on Iteration 50: 0.007162090390920639\n",
    "Best Index on Iteration 50: 47\n",
    "Number of Neurons in layer 1 on Iteration 50: 634.0\n",
    "Number of Neurons in layer 2 on Iteration 50: 634.0\n",
    "________________________________\n",
    "\n",
    "100%|██████████| 64/64 [00:50<00:00,  1.26it/s]\n",
    "Best Objective Value on Iteration 51: 0.00732030812650919\n",
    "Best Index on Iteration 51: 18\n",
    "Number of Neurons in layer 1 on Iteration 51: 628.0\n",
    "Number of Neurons in layer 2 on Iteration 51: 628.0\n",
    "________________________________\n",
    "\n",
    "100%|██████████| 64/64 [00:50<00:00,  1.27it/s]\n",
    "Best Objective Value on Iteration 52: 0.007485729176551104\n",
    "Best Index on Iteration 52: 52\n",
    "Number of Neurons in layer 1 on Iteration 52: 622.0\n",
    "Number of Neurons in layer 2 on Iteration 52: 622.0\n",
    "________________________________\n",
    "\n",
    "100%|██████████| 64/64 [00:51<00:00,  1.25it/s]\n",
    "Best Objective Value on Iteration 53: 0.007654916495084763\n",
    "Best Index on Iteration 53: 49\n",
    "Number of Neurons in layer 1 on Iteration 53: 616.0\n",
    "Number of Neurons in layer 2 on Iteration 53: 616.0\n",
    "________________________________\n",
    "\n",
    "100%|██████████| 64/64 [00:53<00:00,  1.20it/s]\n",
    "Best Objective Value on Iteration 54: 0.007826637476682663\n",
    "Best Index on Iteration 54: 25\n",
    "Number of Neurons in layer 1 on Iteration 54: 610.0\n",
    "Number of Neurons in layer 2 on Iteration 54: 610.0\n",
    "________________________________\n",
    "\n",
    "100%|██████████| 64/64 [00:55<00:00,  1.16it/s]\n",
    "Best Objective Value on Iteration 55: 0.008002998307347298\n",
    "Best Index on Iteration 55: 52\n",
    "Number of Neurons in layer 1 on Iteration 55: 604.0\n",
    "Number of Neurons in layer 2 on Iteration 55: 604.0\n",
    "________________________________\n",
    "\n",
    "100%|██████████| 64/64 [00:54<00:00,  1.18it/s]\n",
    "Best Objective Value on Iteration 56: 0.008181864395737648\n",
    "Best Index on Iteration 56: 3\n",
    "Number of Neurons in layer 1 on Iteration 56: 598.0\n",
    "Number of Neurons in layer 2 on Iteration 56: 598.0\n",
    "________________________________\n",
    "\n",
    "100%|██████████| 64/64 [00:54<00:00,  1.17it/s]\n",
    "Best Objective Value on Iteration 57: 0.008334318175911903\n",
    "Best Index on Iteration 57: 44\n",
    "Number of Neurons in layer 1 on Iteration 57: 593.0\n",
    "Number of Neurons in layer 2 on Iteration 57: 593.0\n",
    "________________________________\n",
    "\n",
    "100%|██████████| 64/64 [00:54<00:00,  1.17it/s]\n",
    "Best Objective Value on Iteration 58: 0.008477731607854366\n",
    "Best Index on Iteration 58: 13\n",
    "Number of Neurons in layer 1 on Iteration 58: 588.0\n",
    "Number of Neurons in layer 2 on Iteration 58: 588.0\n",
    "________________________________\n",
    "\n",
    "100%|██████████| 64/64 [00:54<00:00,  1.18it/s]\n",
    "Best Objective Value on Iteration 59: 0.00863884948194027\n",
    "Best Index on Iteration 59: 35\n",
    "Number of Neurons in layer 1 on Iteration 59: 583.0\n",
    "Number of Neurons in layer 2 on Iteration 59: 583.0\n",
    "________________________________\n",
    "\n",
    "100%|██████████| 64/64 [00:51<00:00,  1.23it/s]\n",
    "Best Objective Value on Iteration 60: 0.008803684264421463\n",
    "Best Index on Iteration 60: 62\n",
    "Number of Neurons in layer 1 on Iteration 60: 578.0\n",
    "Number of Neurons in layer 2 on Iteration 60: 578.0\n",
    "________________________________\n",
    "\n",
    "100%|██████████| 64/64 [00:55<00:00,  1.16it/s]\n",
    "Best Objective Value on Iteration 61: 0.008978716097772121\n",
    "Best Index on Iteration 61: 58\n",
    "Number of Neurons in layer 1 on Iteration 61: 573.0\n",
    "Number of Neurons in layer 2 on Iteration 61: 573.0\n",
    "________________________________\n",
    "\n",
    "100%|██████████| 64/64 [00:52<00:00,  1.21it/s]\n",
    "Best Objective Value on Iteration 62: 0.009153840132057667\n",
    "Best Index on Iteration 62: 60\n",
    "Number of Neurons in layer 1 on Iteration 62: 568.0\n",
    "Number of Neurons in layer 2 on Iteration 62: 568.0\n",
    "________________________________\n",
    "\n",
    "100%|██████████| 64/64 [00:56<00:00,  1.14it/s]\n",
    "Best Objective Value on Iteration 63: 0.009320097975432873\n",
    "Best Index on Iteration 63: 44\n",
    "Number of Neurons in layer 1 on Iteration 63: 563.0\n",
    "Number of Neurons in layer 2 on Iteration 63: 563.0\n",
    "________________________________\n",
    "\n",
    "100%|██████████| 64/64 [00:56<00:00,  1.13it/s]\n",
    "Best Objective Value on Iteration 64: 0.009495026431977749\n",
    "Best Index on Iteration 64: 52\n",
    "Number of Neurons in layer 1 on Iteration 64: 558.0\n",
    "Number of Neurons in layer 2 on Iteration 64: 558.0\n",
    "________________________________\n",
    "\n",
    "100%|██████████| 64/64 [00:53<00:00,  1.21it/s]\n",
    "Best Objective Value on Iteration 65: 0.009675626643002033\n",
    "Best Index on Iteration 65: 22\n",
    "Number of Neurons in layer 1 on Iteration 65: 553.0\n",
    "Number of Neurons in layer 2 on Iteration 65: 553.0\n",
    "________________________________\n",
    "\n",
    "100%|██████████| 64/64 [00:55<00:00,  1.15it/s]\n",
    "Best Objective Value on Iteration 66: 0.009858785197138786\n",
    "Best Index on Iteration 66: 60\n",
    "Number of Neurons in layer 1 on Iteration 66: 548.0\n",
    "Number of Neurons in layer 2 on Iteration 66: 548.0\n",
    "________________________________\n",
    "\n",
    "100%|██████████| 64/64 [00:55<00:00,  1.15it/s]\n",
    "Best Objective Value on Iteration 67: 0.010064566507935524\n",
    "Best Index on Iteration 67: 21\n",
    "Number of Neurons in layer 1 on Iteration 67: 543.0\n",
    "Number of Neurons in layer 2 on Iteration 67: 543.0\n",
    "________________________________"
   ]
  }
 ],
 "metadata": {
  "kernelspec": {
   "display_name": "venv",
   "language": "python",
   "name": "python3"
  },
  "language_info": {
   "codemirror_mode": {
    "name": "ipython",
    "version": 3
   },
   "file_extension": ".py",
   "mimetype": "text/x-python",
   "name": "python",
   "nbconvert_exporter": "python",
   "pygments_lexer": "ipython3",
   "version": "3.10.12"
  }
 },
 "nbformat": 4,
 "nbformat_minor": 2
}

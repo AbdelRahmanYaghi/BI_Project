{
  "nbformat": 4,
  "nbformat_minor": 0,
  "metadata": {
    "colab": {
      "provenance": [],
      "gpuType": "T4"
    },
    "kernelspec": {
      "name": "python3",
      "display_name": "Python 3"
    },
    "language_info": {
      "name": "python"
    },
    "accelerator": "GPU"
  },
  "cells": [
    {
      "cell_type": "code",
      "source": [
        "import argparse\n",
        "import torch\n",
        "import torch.nn as nn\n",
        "import torch.nn.functional as F\n",
        "import torch.optim as optim\n",
        "from torchvision import datasets, transforms\n",
        "from torch.optim.lr_scheduler import StepLR"
      ],
      "metadata": {
        "id": "IEk90IWDyihG"
      },
      "execution_count": null,
      "outputs": []
    },
    {
      "cell_type": "code",
      "execution_count": null,
      "metadata": {
        "id": "_B5ByEEKxfqr"
      },
      "outputs": [],
      "source": [
        "class Net(nn.Module):\n",
        "    def __init__(self):\n",
        "        super(Net, self).__init__()\n",
        "        self.fc1 = nn.Linear(784, 2048)\n",
        "        self.fc2 = nn.Linear(2048, 2048)\n",
        "        self.fc3 = nn.Linear(2048, 10)\n",
        "\n",
        "    def forward(self, x):\n",
        "        x = nn.Flatten()(x)\n",
        "        x = self.fc1(x)\n",
        "        x = F.relu(x)\n",
        "        x = self.fc2(x)\n",
        "        x = F.relu(x)\n",
        "        x = self.fc3(x)\n",
        "        output = F.log_softmax(x, dim=1)\n",
        "        return output\n",
        "\n",
        "\n",
        "def test(model, device, test_loader):\n",
        "    model.eval()\n",
        "    test_loss = 0\n",
        "    correct = 0\n",
        "    with torch.no_grad():\n",
        "        for data, target in test_loader:\n",
        "            data, target = data.to(device), target.to(device)\n",
        "            output = model(data)\n",
        "            test_loss += F.nll_loss(output, target, reduction='sum').item()  # sum up batch loss\n",
        "            pred = output.argmax(dim=1, keepdim=True)  # get the index of the max log-probability\n",
        "            correct += pred.eq(target.view_as(pred)).sum().item()\n",
        "\n",
        "    test_loss /= len(test_loader.dataset)\n",
        "\n",
        "    print('\\nTest set: Average loss: {:.4f}, Accuracy: {}/{} ({:.0f}%)\\n'.format(\n",
        "        test_loss, correct, len(test_loader.dataset),\n",
        "        100. * correct / len(test_loader.dataset)))"
      ]
    },
    {
      "cell_type": "code",
      "source": [
        "\n",
        "device = 'cuda' if torch.cuda.is_available() else 'cpu'\n",
        "torch.device(device)\n",
        "\n",
        "lr = 0.00001\n",
        "epochs = 10\n",
        "\n",
        "transform = transforms.Compose([\n",
        "    transforms.ToTensor()\n",
        "])\n",
        "\n",
        "dataset1 = datasets.MNIST('../data', train=True, download=True, transform = transform)\n",
        "dataset2 = datasets.MNIST('../data', train=False, transform = transform)\n",
        "\n",
        "\n",
        "train_loader = torch.utils.data.DataLoader(dataset1, batch_size = 64, shuffle= True)\n",
        "test_loader = torch.utils.data.DataLoader(dataset2, batch_size = 64)"
      ],
      "metadata": {
        "id": "PySNylfcym3B"
      },
      "execution_count": null,
      "outputs": []
    },
    {
      "cell_type": "code",
      "source": [
        "\n",
        "model = Net().to(device)\n",
        "optimizer = optim.Adam(model.parameters(), lr=lr)\n"
      ],
      "metadata": {
        "id": "qS-Ni1g51TKt"
      },
      "execution_count": null,
      "outputs": []
    },
    {
      "cell_type": "code",
      "source": [
        "from tqdm import tqdm\n",
        "\n",
        "for epoch in range(1, epochs):\n",
        "\n",
        "    model.train()\n",
        "\n",
        "    for batch_idx, (data, target) in tqdm(enumerate(train_loader)):\n",
        "        data, target = data.to(device), target.to(device)\n",
        "\n",
        "        optimizer.zero_grad()\n",
        "        output = model(data)\n",
        "\n",
        "        loss = F.cross_entropy(output, target)\n",
        "        loss.backward()\n",
        "        optimizer.step()\n",
        "\n",
        "        if batch_idx % 200 == 0:\n",
        "            print('Train Epoch: {} [{}/{} ({:.0f}%)]\\tLoss: {:.6f}'.format(\n",
        "                epoch, batch_idx * len(data), len(train_loader.dataset),\n",
        "                100. * batch_idx / len(train_loader), loss.item()))\n"
      ],
      "metadata": {
        "colab": {
          "base_uri": "https://localhost:8080/"
        },
        "id": "p73Mria01U3m",
        "outputId": "4b2d715c-7cef-4eb2-ce00-d47cbaad56c5"
      },
      "execution_count": null,
      "outputs": [
        {
          "output_type": "stream",
          "name": "stderr",
          "text": [
            "25it [00:00, 122.56it/s]"
          ]
        },
        {
          "output_type": "stream",
          "name": "stdout",
          "text": [
            "Train Epoch: 1 [0/60000 (0%)]\tLoss: 2.303792\n"
          ]
        },
        {
          "output_type": "stream",
          "name": "stderr",
          "text": [
            "215it [00:01, 111.99it/s]"
          ]
        },
        {
          "output_type": "stream",
          "name": "stdout",
          "text": [
            "Train Epoch: 1 [12800/60000 (21%)]\tLoss: 1.400844\n"
          ]
        },
        {
          "output_type": "stream",
          "name": "stderr",
          "text": [
            "415it [00:03, 113.67it/s]"
          ]
        },
        {
          "output_type": "stream",
          "name": "stdout",
          "text": [
            "Train Epoch: 1 [25600/60000 (43%)]\tLoss: 0.650626\n"
          ]
        },
        {
          "output_type": "stream",
          "name": "stderr",
          "text": [
            "615it [00:05, 86.73it/s]"
          ]
        },
        {
          "output_type": "stream",
          "name": "stdout",
          "text": [
            "Train Epoch: 1 [38400/60000 (64%)]\tLoss: 0.401552\n"
          ]
        },
        {
          "output_type": "stream",
          "name": "stderr",
          "text": [
            "815it [00:07, 112.87it/s]"
          ]
        },
        {
          "output_type": "stream",
          "name": "stdout",
          "text": [
            "Train Epoch: 1 [51200/60000 (85%)]\tLoss: 0.420787\n"
          ]
        },
        {
          "output_type": "stream",
          "name": "stderr",
          "text": [
            "938it [00:09, 102.88it/s]\n",
            "19it [00:00, 91.86it/s]"
          ]
        },
        {
          "output_type": "stream",
          "name": "stdout",
          "text": [
            "Train Epoch: 2 [0/60000 (0%)]\tLoss: 0.215243\n"
          ]
        },
        {
          "output_type": "stream",
          "name": "stderr",
          "text": [
            "224it [00:02, 117.04it/s]"
          ]
        },
        {
          "output_type": "stream",
          "name": "stdout",
          "text": [
            "Train Epoch: 2 [12800/60000 (21%)]\tLoss: 0.281414\n"
          ]
        },
        {
          "output_type": "stream",
          "name": "stderr",
          "text": [
            "414it [00:03, 119.91it/s]"
          ]
        },
        {
          "output_type": "stream",
          "name": "stdout",
          "text": [
            "Train Epoch: 2 [25600/60000 (43%)]\tLoss: 0.448634\n"
          ]
        },
        {
          "output_type": "stream",
          "name": "stderr",
          "text": [
            "622it [00:05, 121.06it/s]"
          ]
        },
        {
          "output_type": "stream",
          "name": "stdout",
          "text": [
            "Train Epoch: 2 [38400/60000 (64%)]\tLoss: 0.364716\n"
          ]
        },
        {
          "output_type": "stream",
          "name": "stderr",
          "text": [
            "824it [00:07, 117.33it/s]"
          ]
        },
        {
          "output_type": "stream",
          "name": "stdout",
          "text": [
            "Train Epoch: 2 [51200/60000 (85%)]\tLoss: 0.404855\n"
          ]
        },
        {
          "output_type": "stream",
          "name": "stderr",
          "text": [
            "938it [00:08, 112.88it/s]\n",
            "25it [00:00, 118.82it/s]"
          ]
        },
        {
          "output_type": "stream",
          "name": "stdout",
          "text": [
            "Train Epoch: 3 [0/60000 (0%)]\tLoss: 0.226742\n"
          ]
        },
        {
          "output_type": "stream",
          "name": "stderr",
          "text": [
            "214it [00:01, 120.04it/s]"
          ]
        },
        {
          "output_type": "stream",
          "name": "stdout",
          "text": [
            "Train Epoch: 3 [12800/60000 (21%)]\tLoss: 0.241763\n"
          ]
        },
        {
          "output_type": "stream",
          "name": "stderr",
          "text": [
            "409it [00:03, 90.99it/s]"
          ]
        },
        {
          "output_type": "stream",
          "name": "stdout",
          "text": [
            "Train Epoch: 3 [25600/60000 (43%)]\tLoss: 0.245803\n"
          ]
        },
        {
          "output_type": "stream",
          "name": "stderr",
          "text": [
            "619it [00:05, 117.59it/s]"
          ]
        },
        {
          "output_type": "stream",
          "name": "stdout",
          "text": [
            "Train Epoch: 3 [38400/60000 (64%)]\tLoss: 0.249996\n"
          ]
        },
        {
          "output_type": "stream",
          "name": "stderr",
          "text": [
            "822it [00:07, 120.97it/s]"
          ]
        },
        {
          "output_type": "stream",
          "name": "stdout",
          "text": [
            "Train Epoch: 3 [51200/60000 (85%)]\tLoss: 0.236859\n"
          ]
        },
        {
          "output_type": "stream",
          "name": "stderr",
          "text": [
            "938it [00:08, 110.46it/s]\n",
            "24it [00:00, 114.29it/s]"
          ]
        },
        {
          "output_type": "stream",
          "name": "stdout",
          "text": [
            "Train Epoch: 4 [0/60000 (0%)]\tLoss: 0.161737\n"
          ]
        },
        {
          "output_type": "stream",
          "name": "stderr",
          "text": [
            "215it [00:01, 119.71it/s]"
          ]
        },
        {
          "output_type": "stream",
          "name": "stdout",
          "text": [
            "Train Epoch: 4 [12800/60000 (21%)]\tLoss: 0.199437\n"
          ]
        },
        {
          "output_type": "stream",
          "name": "stderr",
          "text": [
            "416it [00:03, 116.78it/s]"
          ]
        },
        {
          "output_type": "stream",
          "name": "stdout",
          "text": [
            "Train Epoch: 4 [25600/60000 (43%)]\tLoss: 0.289777\n"
          ]
        },
        {
          "output_type": "stream",
          "name": "stderr",
          "text": [
            "621it [00:05, 121.81it/s]"
          ]
        },
        {
          "output_type": "stream",
          "name": "stdout",
          "text": [
            "Train Epoch: 4 [38400/60000 (64%)]\tLoss: 0.577114\n"
          ]
        },
        {
          "output_type": "stream",
          "name": "stderr",
          "text": [
            "816it [00:07, 94.38it/s]"
          ]
        },
        {
          "output_type": "stream",
          "name": "stdout",
          "text": [
            "Train Epoch: 4 [51200/60000 (85%)]\tLoss: 0.283166\n"
          ]
        },
        {
          "output_type": "stream",
          "name": "stderr",
          "text": [
            "938it [00:08, 110.40it/s]\n",
            "19it [00:00, 96.22it/s]"
          ]
        },
        {
          "output_type": "stream",
          "name": "stdout",
          "text": [
            "Train Epoch: 5 [0/60000 (0%)]\tLoss: 0.401108\n"
          ]
        },
        {
          "output_type": "stream",
          "name": "stderr",
          "text": [
            "221it [00:01, 108.93it/s]"
          ]
        },
        {
          "output_type": "stream",
          "name": "stdout",
          "text": [
            "Train Epoch: 5 [12800/60000 (21%)]\tLoss: 0.282913\n"
          ]
        },
        {
          "output_type": "stream",
          "name": "stderr",
          "text": [
            "416it [00:03, 118.27it/s]"
          ]
        },
        {
          "output_type": "stream",
          "name": "stdout",
          "text": [
            "Train Epoch: 5 [25600/60000 (43%)]\tLoss: 0.160020\n"
          ]
        },
        {
          "output_type": "stream",
          "name": "stderr",
          "text": [
            "617it [00:05, 116.17it/s]"
          ]
        },
        {
          "output_type": "stream",
          "name": "stdout",
          "text": [
            "Train Epoch: 5 [38400/60000 (64%)]\tLoss: 0.230573\n"
          ]
        },
        {
          "output_type": "stream",
          "name": "stderr",
          "text": [
            "813it [00:07, 110.85it/s]"
          ]
        },
        {
          "output_type": "stream",
          "name": "stdout",
          "text": [
            "Train Epoch: 5 [51200/60000 (85%)]\tLoss: 0.343944\n"
          ]
        },
        {
          "output_type": "stream",
          "name": "stderr",
          "text": [
            "938it [00:08, 114.34it/s]\n",
            "25it [00:00, 119.68it/s]"
          ]
        },
        {
          "output_type": "stream",
          "name": "stdout",
          "text": [
            "Train Epoch: 6 [0/60000 (0%)]\tLoss: 0.258405\n"
          ]
        },
        {
          "output_type": "stream",
          "name": "stderr",
          "text": [
            "219it [00:01, 120.39it/s]"
          ]
        },
        {
          "output_type": "stream",
          "name": "stdout",
          "text": [
            "Train Epoch: 6 [12800/60000 (21%)]\tLoss: 0.192088\n"
          ]
        },
        {
          "output_type": "stream",
          "name": "stderr",
          "text": [
            "419it [00:04, 90.36it/s]"
          ]
        },
        {
          "output_type": "stream",
          "name": "stdout",
          "text": [
            "Train Epoch: 6 [25600/60000 (43%)]\tLoss: 0.252797\n"
          ]
        },
        {
          "output_type": "stream",
          "name": "stderr",
          "text": [
            "619it [00:05, 117.66it/s]"
          ]
        },
        {
          "output_type": "stream",
          "name": "stdout",
          "text": [
            "Train Epoch: 6 [38400/60000 (64%)]\tLoss: 0.216943\n"
          ]
        },
        {
          "output_type": "stream",
          "name": "stderr",
          "text": [
            "818it [00:07, 121.11it/s]"
          ]
        },
        {
          "output_type": "stream",
          "name": "stdout",
          "text": [
            "Train Epoch: 6 [51200/60000 (85%)]\tLoss: 0.241118\n"
          ]
        },
        {
          "output_type": "stream",
          "name": "stderr",
          "text": [
            "938it [00:08, 108.79it/s]\n",
            "25it [00:00, 119.57it/s]"
          ]
        },
        {
          "output_type": "stream",
          "name": "stdout",
          "text": [
            "Train Epoch: 7 [0/60000 (0%)]\tLoss: 0.345424\n"
          ]
        },
        {
          "output_type": "stream",
          "name": "stderr",
          "text": [
            "216it [00:01, 118.82it/s]"
          ]
        },
        {
          "output_type": "stream",
          "name": "stdout",
          "text": [
            "Train Epoch: 7 [12800/60000 (21%)]\tLoss: 0.176004\n"
          ]
        },
        {
          "output_type": "stream",
          "name": "stderr",
          "text": [
            "415it [00:03, 114.24it/s]"
          ]
        },
        {
          "output_type": "stream",
          "name": "stdout",
          "text": [
            "Train Epoch: 7 [25600/60000 (43%)]\tLoss: 0.138497\n"
          ]
        },
        {
          "output_type": "stream",
          "name": "stderr",
          "text": [
            "621it [00:05, 121.06it/s]"
          ]
        },
        {
          "output_type": "stream",
          "name": "stdout",
          "text": [
            "Train Epoch: 7 [38400/60000 (64%)]\tLoss: 0.088025\n"
          ]
        },
        {
          "output_type": "stream",
          "name": "stderr",
          "text": [
            "823it [00:07, 94.48it/s]"
          ]
        },
        {
          "output_type": "stream",
          "name": "stdout",
          "text": [
            "Train Epoch: 7 [51200/60000 (85%)]\tLoss: 0.209422\n"
          ]
        },
        {
          "output_type": "stream",
          "name": "stderr",
          "text": [
            "938it [00:08, 108.97it/s]\n",
            "24it [00:00, 115.10it/s]"
          ]
        },
        {
          "output_type": "stream",
          "name": "stdout",
          "text": [
            "Train Epoch: 8 [0/60000 (0%)]\tLoss: 0.133268\n"
          ]
        },
        {
          "output_type": "stream",
          "name": "stderr",
          "text": [
            "218it [00:01, 118.32it/s]"
          ]
        },
        {
          "output_type": "stream",
          "name": "stdout",
          "text": [
            "Train Epoch: 8 [12800/60000 (21%)]\tLoss: 0.081902\n"
          ]
        },
        {
          "output_type": "stream",
          "name": "stderr",
          "text": [
            "419it [00:03, 120.59it/s]"
          ]
        },
        {
          "output_type": "stream",
          "name": "stdout",
          "text": [
            "Train Epoch: 8 [25600/60000 (43%)]\tLoss: 0.129332\n"
          ]
        },
        {
          "output_type": "stream",
          "name": "stderr",
          "text": [
            "615it [00:05, 118.58it/s]"
          ]
        },
        {
          "output_type": "stream",
          "name": "stdout",
          "text": [
            "Train Epoch: 8 [38400/60000 (64%)]\tLoss: 0.187430\n"
          ]
        },
        {
          "output_type": "stream",
          "name": "stderr",
          "text": [
            "819it [00:06, 121.19it/s]"
          ]
        },
        {
          "output_type": "stream",
          "name": "stdout",
          "text": [
            "Train Epoch: 8 [51200/60000 (85%)]\tLoss: 0.365425\n"
          ]
        },
        {
          "output_type": "stream",
          "name": "stderr",
          "text": [
            "938it [00:07, 118.89it/s]\n",
            "13it [00:00, 120.86it/s]"
          ]
        },
        {
          "output_type": "stream",
          "name": "stdout",
          "text": [
            "Train Epoch: 9 [0/60000 (0%)]\tLoss: 0.125266\n"
          ]
        },
        {
          "output_type": "stream",
          "name": "stderr",
          "text": [
            "214it [00:02, 93.04it/s]"
          ]
        },
        {
          "output_type": "stream",
          "name": "stdout",
          "text": [
            "Train Epoch: 9 [12800/60000 (21%)]\tLoss: 0.068385\n"
          ]
        },
        {
          "output_type": "stream",
          "name": "stderr",
          "text": [
            "414it [00:04, 118.69it/s]"
          ]
        },
        {
          "output_type": "stream",
          "name": "stdout",
          "text": [
            "Train Epoch: 9 [25600/60000 (43%)]\tLoss: 0.096782\n"
          ]
        },
        {
          "output_type": "stream",
          "name": "stderr",
          "text": [
            "620it [00:05, 121.81it/s]"
          ]
        },
        {
          "output_type": "stream",
          "name": "stdout",
          "text": [
            "Train Epoch: 9 [38400/60000 (64%)]\tLoss: 0.229471\n"
          ]
        },
        {
          "output_type": "stream",
          "name": "stderr",
          "text": [
            "815it [00:07, 121.51it/s]"
          ]
        },
        {
          "output_type": "stream",
          "name": "stdout",
          "text": [
            "Train Epoch: 9 [51200/60000 (85%)]\tLoss: 0.109369\n"
          ]
        },
        {
          "output_type": "stream",
          "name": "stderr",
          "text": [
            "938it [00:08, 110.32it/s]\n"
          ]
        }
      ]
    },
    {
      "cell_type": "code",
      "source": [
        "test(model, 'cuda', test_loader)"
      ],
      "metadata": {
        "colab": {
          "base_uri": "https://localhost:8080/"
        },
        "id": "W8Y3NZwe6YAU",
        "outputId": "51ea06e9-75e5-4f00-be8e-0467265b6a3c"
      },
      "execution_count": null,
      "outputs": [
        {
          "output_type": "stream",
          "name": "stdout",
          "text": [
            "\n",
            "Test set: Average loss: 0.1531, Accuracy: 9553/10000 (96%)\n",
            "\n"
          ]
        }
      ]
    },
    {
      "cell_type": "code",
      "source": [
        "import numpy as np\n",
        "\n",
        "for i in model.state_dict():\n",
        "  file_name = i.replace('.', '_')\n",
        "  np.save(open(f'/content/model_weights/{file_name}.npy', 'wb'),\n",
        "          model.state_dict()[i].cpu().numpy())"
      ],
      "metadata": {
        "id": "8zj2PrPV7XAK"
      },
      "execution_count": null,
      "outputs": []
    }
  ]
}